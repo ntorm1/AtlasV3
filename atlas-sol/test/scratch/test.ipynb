{
 "cells": [
  {
   "cell_type": "code",
   "execution_count": 3,
   "metadata": {},
   "outputs": [],
   "source": [
    "%load_ext autoreload\n",
    "%autoreload 2\n",
    "\n",
    "import json\n",
    "import os, sys\n",
    "import requests\n",
    "from solana.rpc.api import Client, Signature\n",
    "from solders.pubkey import Pubkey\n",
    "import datetime as dt\n",
    "import pandas as pd\n",
    "import numpy as np\n",
    "from solana.rpc.types import TokenAccountOpts\n",
    "import polars as pl"
   ]
  },
  {
   "cell_type": "code",
   "execution_count": 4,
   "metadata": {},
   "outputs": [],
   "source": [
    "from atlas_sol import AtlasSol\n",
    "from tqdm import tqdm\n",
    "import base58\n",
    "from solana.rpc.api import Client\n",
    "from spl.token.constants import TOKEN_PROGRAM_ID\n",
    "\n",
    "CHAINSTAKE_SOLONA_HTTPS = \"https://solana-mainnet.core.chainstack.com/2fa69914c087050cc7b9887511cd7d35\"\n",
    "CHAINSTAKE_SOLONA_WS = \"wss://solana-mainnet.core.chainstack.com/2fa69914c087050cc7b9887511cd7d35\"\n",
    "client = Client(CHAINSTAKE_SOLONA_WS)\n",
    "asol = AtlasSol(CHAINSTAKE_SOLONA_HTTPS)"
   ]
  },
  {
   "cell_type": "code",
   "execution_count": 5,
   "metadata": {},
   "outputs": [],
   "source": [
    "engine = AtlasSol.GetPostgresEngine()"
   ]
  },
  {
   "cell_type": "code",
   "execution_count": null,
   "metadata": {},
   "outputs": [
    {
     "name": "stdout",
     "output_type": "stream",
     "text": [
      "Msg recv: 2024-12-08 19:08:52.561827, len: 124\n",
      "Msg recv: 2024-12-08 19:08:53.099037, len: 101\n",
      "Msg recv: 2024-12-08 19:08:54.043861, len: 127\n",
      "Msg recv: 2024-12-08 19:08:54.711046, len: 99\n",
      "Msg recv: 2024-12-08 19:08:55.147432, len: 97\n",
      "Msg recv: 2024-12-08 19:08:55.682354, len: 64\n",
      "Msg recv: 2024-12-08 19:08:56.381574, len: 128\n",
      "Msg recv: 2024-12-08 19:08:56.970778, len: 158\n",
      "Msg recv: 2024-12-08 19:08:57.625401, len: 138\n",
      "Msg recv: 2024-12-08 19:08:58.256651, len: 122\n",
      "Msg recv: 2024-12-08 19:08:59.114079, len: 179\n",
      "Msg recv: 2024-12-08 19:08:59.931568, len: 134\n",
      "Msg recv: 2024-12-08 19:09:00.508166, len: 108\n",
      "Msg recv: 2024-12-08 19:09:01.032491, len: 118\n",
      "Msg recv: 2024-12-08 19:09:01.628218, len: 140\n",
      "Msg recv: 2024-12-08 19:09:02.261346, len: 138\n",
      "Msg recv: 2024-12-08 19:09:02.771171, len: 104\n",
      "Msg recv: 2024-12-08 19:09:03.750189, len: 95\n",
      "Msg recv: 2024-12-08 19:09:04.488391, len: 148\n",
      "Msg recv: 2024-12-08 19:09:05.065605, len: 132\n",
      "Msg recv: 2024-12-08 19:09:05.654753, len: 110\n",
      "Msg recv: 2024-12-08 19:09:06.149052, len: 99\n",
      "Msg recv: 2024-12-08 19:09:06.750476, len: 119\n",
      "Msg recv: 2024-12-08 19:09:07.363860, len: 152\n",
      "Msg recv: 2024-12-08 19:09:08.088294, len: 141\n",
      "Msg recv: 2024-12-08 19:09:08.595583, len: 137\n",
      "Msg recv: 2024-12-08 19:09:09.022446, len: 38\n",
      "Msg recv: 2024-12-08 19:09:10.074608, len: 229\n",
      "Msg recv: 2024-12-08 19:09:10.655487, len: 144\n",
      "Msg recv: 2024-12-08 19:09:11.159403, len: 148\n",
      "Msg recv: 2024-12-08 19:09:11.925956, len: 119\n",
      "Msg recv: 2024-12-08 19:09:12.533473, len: 153\n",
      "Msg recv: 2024-12-08 19:09:13.064298, len: 162\n",
      "Msg recv: 2024-12-08 19:09:13.693987, len: 148\n"
     ]
    }
   ],
   "source": [
    "import asyncio\n",
    "from asyncstdlib import enumerate\n",
    "from solana.rpc.websocket_api import connect\n",
    "\n",
    "dfs = []\n",
    "MSG_COUNT = 5_000\n",
    "i = 0\n",
    "async with connect(CHAINSTAKE_SOLONA_WS) as websocket:\n",
    "    websocket.max_size = 2 ** 40\n",
    "    await websocket.block_subscribe(\n",
    "        commitment=\"finalized\",\n",
    "        encoding=\"binary\",\n",
    "        max_supported_transaction_version=0\n",
    "    )\n",
    "    first_resp = await websocket.recv()  # Wait for a message\n",
    "    subscription_id = first_resp[0].result\n",
    "    while True:\n",
    "        try:\n",
    "            subscription_id = first_resp[0].result\n",
    "            message = await websocket.recv()  # Wait for a message\n",
    "            now = dt.datetime.now()\n",
    "            df_t = asol.getTxFrame(\n",
    "                block=message[0].result.value.block,\n",
    "                raise_on_error=False\n",
    "            )\n",
    "            df_t.write_database(\n",
    "                table_name=\"tx_detail_v2\",\n",
    "                connection=engine,\n",
    "                if_table_exists=\"append\",\n",
    "            )\n",
    "            print(f\"Msg recv: {now}, len: {len(df_t)}\")\n",
    "            i+=1\n",
    "            if i == MSG_COUNT:\n",
    "                break\n",
    "        except Exception as e:\n",
    "            print(f\"Error receiving message: {e}\")\n",
    "    await websocket.logs_unsubscribe(subscription_id)"
   ]
  },
  {
   "cell_type": "code",
   "execution_count": 27,
   "metadata": {},
   "outputs": [
    {
     "data": {
      "text/html": [
       "<div><style>\n",
       ".dataframe > thead > tr,\n",
       ".dataframe > tbody > tr {\n",
       "  text-align: right;\n",
       "  white-space: pre-wrap;\n",
       "}\n",
       "</style>\n",
       "<small>shape: (133_698, 16)</small><table border=\"1\" class=\"dataframe\"><thead><tr><th>signature</th><th>owner</th><th>account</th><th>mint</th><th>wallet_prebalance</th><th>wallet_postbalance</th><th>owner_cp</th><th>account_cp</th><th>wallet_prebalance_cp</th><th>wallet_postbalance_cp</th><th>mint_cp</th><th>wallet_prebalance_sold</th><th>wallet_postbalance_sold</th><th>account_sold</th><th>timestamp</th><th>parent_slot</th></tr><tr><td>str</td><td>str</td><td>str</td><td>str</td><td>f64</td><td>f64</td><td>str</td><td>str</td><td>f64</td><td>f64</td><td>str</td><td>f64</td><td>f64</td><td>str</td><td>datetime[μs]</td><td>i64</td></tr></thead><tbody><tr><td>&quot;3XSebZeC1tpEJLaWRrB2BwhQydeGnY…</td><td>&quot;5Q544fKrFoe6tsEbD7S8EmxGTJYAKt…</td><td>&quot;CEsLEVSErrnncyY2AhEagS2kAC8Xhc…</td><td>&quot;6fqSjchG9eL796uCk8Bdh6GA8aYN76…</td><td>75258.83305</td><td>75258.978163</td><td>&quot;4aDb9teSkXFXj67T66XMbsv4mMH1Fz…</td><td>&quot;5MGEroCREpe2w7HUe9hbK4tSTVwMn7…</td><td>7.178449</td><td>7.033336</td><td>&quot;So1111111111111111111111111111…</td><td>0.113093</td><td>0.113093</td><td>&quot;6xGwJqWgMhws9ATjXDhYio3QM5HrET…</td><td>2024-12-08 23:45:17</td><td>306280192</td></tr><tr><td>&quot;2B1TqsCQcsm9yQCPz4z1QhpXQQQA6h…</td><td>&quot;5Q544fKrFoe6tsEbD7S8EmxGTJYAKt…</td><td>&quot;APU2BpNbsjsxFqxwj86wuN6rP4wAFp…</td><td>&quot;xv8yd91ckrxH52z67HLaerZXFRubF4…</td><td>7.4503e7</td><td>7.4503e7</td><td>&quot;5CCJb1oYP19Dziksn6s9BhZvWanf21…</td><td>&quot;BeSh6wn5aUg9zzFHVJfJNE2dkhEVWj…</td><td>6236.027663</td><td>6249.660853</td><td>&quot;So1111111111111111111111111111…</td><td>54.511868</td><td>54.511878</td><td>&quot;GSoT84vkzAdU1hkBWeEZcL19rMeCLJ…</td><td>2024-12-08 23:45:17</td><td>306280192</td></tr><tr><td>&quot;2XcNqF5c2Tzj2cHtwG7uYr8EvoxxF7…</td><td>&quot;5Q544fKrFoe6tsEbD7S8EmxGTJYAKt…</td><td>&quot;APU2BpNbsjsxFqxwj86wuN6rP4wAFp…</td><td>&quot;xv8yd91ckrxH52z67HLaerZXFRubF4…</td><td>7.4503e7</td><td>7.4503e7</td><td>&quot;5CCJb1oYP19Dziksn6s9BhZvWanf21…</td><td>&quot;BeSh6wn5aUg9zzFHVJfJNE2dkhEVWj…</td><td>6249.660853</td><td>6263.294037</td><td>&quot;So1111111111111111111111111111…</td><td>54.511878</td><td>54.511888</td><td>&quot;GSoT84vkzAdU1hkBWeEZcL19rMeCLJ…</td><td>2024-12-08 23:45:17</td><td>306280192</td></tr><tr><td>&quot;4PMpbfLMyoPZHUZCyEDhXhwHXyJ5GF…</td><td>&quot;5Q544fKrFoe6tsEbD7S8EmxGTJYAKt…</td><td>&quot;APU2BpNbsjsxFqxwj86wuN6rP4wAFp…</td><td>&quot;xv8yd91ckrxH52z67HLaerZXFRubF4…</td><td>7.4503e7</td><td>7.4503e7</td><td>&quot;5CCJb1oYP19Dziksn6s9BhZvWanf21…</td><td>&quot;BeSh6wn5aUg9zzFHVJfJNE2dkhEVWj…</td><td>6263.294037</td><td>6276.927217</td><td>&quot;So1111111111111111111111111111…</td><td>54.511888</td><td>54.511898</td><td>&quot;GSoT84vkzAdU1hkBWeEZcL19rMeCLJ…</td><td>2024-12-08 23:45:17</td><td>306280192</td></tr><tr><td>&quot;4t2S7Qk7zbV7qaZjregMQ3n66Dbv89…</td><td>&quot;5Q544fKrFoe6tsEbD7S8EmxGTJYAKt…</td><td>&quot;APU2BpNbsjsxFqxwj86wuN6rP4wAFp…</td><td>&quot;xv8yd91ckrxH52z67HLaerZXFRubF4…</td><td>7.4503e7</td><td>7.4503e7</td><td>&quot;5CCJb1oYP19Dziksn6s9BhZvWanf21…</td><td>&quot;BeSh6wn5aUg9zzFHVJfJNE2dkhEVWj…</td><td>6276.927217</td><td>6290.560392</td><td>&quot;So1111111111111111111111111111…</td><td>54.511898</td><td>54.511908</td><td>&quot;GSoT84vkzAdU1hkBWeEZcL19rMeCLJ…</td><td>2024-12-08 23:45:17</td><td>306280192</td></tr><tr><td>&hellip;</td><td>&hellip;</td><td>&hellip;</td><td>&hellip;</td><td>&hellip;</td><td>&hellip;</td><td>&hellip;</td><td>&hellip;</td><td>&hellip;</td><td>&hellip;</td><td>&hellip;</td><td>&hellip;</td><td>&hellip;</td><td>&hellip;</td><td>&hellip;</td><td>&hellip;</td></tr><tr><td>&quot;mb1Yz9JpgopnCw2QPtg97CoUNJRKsh…</td><td>&quot;7vi5dyBk6s7nj3HPmSN35Ts2ZXkaKK…</td><td>&quot;27V4G3DHF4x5mybjED1WNTN6Cy6WSV…</td><td>&quot;orcaEKTdK7LKz57vaAYr9QeNsVEPfi…</td><td>14144.126637</td><td>14966.585376</td><td>&quot;9RJLGgKga286QDQtBAA2bfYSpQ6bNP…</td><td>&quot;Dhbx3k97ffBEyeXisynTejX84dkNzr…</td><td>43081.288408</td><td>42258.829669</td><td>&quot;EPjFWdd5AufqSSqeM2qN1xzybapC8G…</td><td>1.2105e6</td><td>1.2054e6</td><td>&quot;HMw6T5r7eaXq6WgDCpZYJn5bBGziNH…</td><td>2024-12-08 23:56:30</td><td>306281831</td></tr><tr><td>&quot;3LKJ5Tqme88akZB14bndktaXqd2dPS…</td><td>&quot;7nuFxQAu8SSD81PaXUfiTCLRRBmCoe…</td><td>&quot;AjaA3x3i4VgtaQonmX6wAucANhr79Z…</td><td>&quot;4Bo121MZ4C16XEsz47MbmuyEx1CFXe…</td><td>49628.798607</td><td>0.0</td><td>&quot;5Q544fKrFoe6tsEbD7S8EmxGTJYAKt…</td><td>&quot;FfirHqUoT1q7tjfjGTAJdnicQGmYW1…</td><td>6.4145e7</td><td>6.4195e7</td><td>&quot;4Bo121MZ4C16XEsz47MbmuyEx1CFXe…</td><td>6.4145e7</td><td>6.4195e7</td><td>&quot;FfirHqUoT1q7tjfjGTAJdnicQGmYW1…</td><td>2024-12-08 23:56:30</td><td>306281831</td></tr><tr><td>&quot;3ZDXYYxZALibm2ZBShRyS6rqQ17AAq…</td><td>&quot;DCBiiQf9SzZeUB8mo9LrTf13BzGja6…</td><td>&quot;4q2MvCf7cQbT4B1YPRsZAmB6fVJiGZ…</td><td>&quot;GfHjaxzmPQH1FriETck6Hivr9j9wDQ…</td><td>2.1492e7</td><td>2.1492e7</td><td>&quot;GpMZbSM2GgvTKHJirzeGfMFoaZ8UR2…</td><td>&quot;7bBf1PhrM3yk8MiszdCNfMeFm1zGtf…</td><td>2.2347e7</td><td>2.2347e7</td><td>&quot;GfHjaxzmPQH1FriETck6Hivr9j9wDQ…</td><td>2.2347e7</td><td>2.2347e7</td><td>&quot;7bBf1PhrM3yk8MiszdCNfMeFm1zGtf…</td><td>2024-12-08 23:56:30</td><td>306281831</td></tr><tr><td>&quot;WFrkxhR9D9Yy7fCve18iZmagV9dWMN…</td><td>&quot;5Q544fKrFoe6tsEbD7S8EmxGTJYAKt…</td><td>&quot;FGwFpW3DPphQZ3svdjKbCQLLcYjvzR…</td><td>&quot;A1vkKpcCfHMmtVnRvfPZFW6oBPmFFE…</td><td>1.0216e8</td><td>1.0230e8</td><td>&quot;6BKZkP4rVKxZmVEpTWMdaXby6axCJt…</td><td>&quot;7kYDtqyYLF4pPt2R6ZfX8wy4rurPyw…</td><td>144188.687486</td><td>0.0</td><td>&quot;So1111111111111111111111111111…</td><td>211.989682</td><td>211.691647</td><td>&quot;B3cLhe2zYF51X1NkJfyFQ1PNZJetVx…</td><td>2024-12-08 23:56:30</td><td>306281831</td></tr><tr><td>&quot;tdvnGC7BJCwNSoHYBbjpqX9qg31BFP…</td><td>&quot;4fguQqSwMkie3ub6trtMFbCE4AgTLo…</td><td>&quot;7K1NWmhm2GGuzjnMMw6G4bDZvvC29P…</td><td>&quot;EPjFWdd5AufqSSqeM2qN1xzybapC8G…</td><td>500.0</td><td>0.0</td><td>&quot;ZJHzcKvgNvkcygg92F3ua8xA83sfbw…</td><td>&quot;6Q6U8JUefrxjo8nE4GNDysFfYaY2Xa…</td><td>1.3820e6</td><td>1.3825e6</td><td>&quot;EPjFWdd5AufqSSqeM2qN1xzybapC8G…</td><td>1.3820e6</td><td>1.3825e6</td><td>&quot;6Q6U8JUefrxjo8nE4GNDysFfYaY2Xa…</td><td>2024-12-08 23:56:30</td><td>306281831</td></tr></tbody></table></div>"
      ],
      "text/plain": [
       "shape: (133_698, 16)\n",
       "┌───────────┬───────────┬───────────┬───────────┬───┬───────────┬───────────┬───────────┬──────────┐\n",
       "│ signature ┆ owner     ┆ account   ┆ mint      ┆ … ┆ wallet_po ┆ account_s ┆ timestamp ┆ parent_s │\n",
       "│ ---       ┆ ---       ┆ ---       ┆ ---       ┆   ┆ stbalance ┆ old       ┆ ---       ┆ lot      │\n",
       "│ str       ┆ str       ┆ str       ┆ str       ┆   ┆ _sold     ┆ ---       ┆ datetime[ ┆ ---      │\n",
       "│           ┆           ┆           ┆           ┆   ┆ ---       ┆ str       ┆ μs]       ┆ i64      │\n",
       "│           ┆           ┆           ┆           ┆   ┆ f64       ┆           ┆           ┆          │\n",
       "╞═══════════╪═══════════╪═══════════╪═══════════╪═══╪═══════════╪═══════════╪═══════════╪══════════╡\n",
       "│ 3XSebZeC1 ┆ 5Q544fKrF ┆ CEsLEVSEr ┆ 6fqSjchG9 ┆ … ┆ 0.113093  ┆ 6xGwJqWgM ┆ 2024-12-0 ┆ 30628019 │\n",
       "│ tpEJLaWRr ┆ oe6tsEbD7 ┆ rnncyY2Ah ┆ eL796uCk8 ┆   ┆           ┆ hws9ATjXD ┆ 8         ┆ 2        │\n",
       "│ B2BwhQyde ┆ S8EmxGTJY ┆ EagS2kAC8 ┆ Bdh6GA8aY ┆   ┆           ┆ hYio3QM5H ┆ 23:45:17  ┆          │\n",
       "│ GnY…      ┆ AKt…      ┆ Xhc…      ┆ N76…      ┆   ┆           ┆ rET…      ┆           ┆          │\n",
       "│ 2B1TqsCQc ┆ 5Q544fKrF ┆ APU2BpNbs ┆ xv8yd91ck ┆ … ┆ 54.511878 ┆ GSoT84vkz ┆ 2024-12-0 ┆ 30628019 │\n",
       "│ sm9yQCPz4 ┆ oe6tsEbD7 ┆ jsxFqxwj8 ┆ rxH52z67H ┆   ┆           ┆ AdU1hkBWe ┆ 8         ┆ 2        │\n",
       "│ z1QhpXQQQ ┆ S8EmxGTJY ┆ 6wuN6rP4w ┆ LaerZXFRu ┆   ┆           ┆ EZcL19rMe ┆ 23:45:17  ┆          │\n",
       "│ A6h…      ┆ AKt…      ┆ AFp…      ┆ bF4…      ┆   ┆           ┆ CLJ…      ┆           ┆          │\n",
       "│ 2XcNqF5c2 ┆ 5Q544fKrF ┆ APU2BpNbs ┆ xv8yd91ck ┆ … ┆ 54.511888 ┆ GSoT84vkz ┆ 2024-12-0 ┆ 30628019 │\n",
       "│ Tzj2cHtwG ┆ oe6tsEbD7 ┆ jsxFqxwj8 ┆ rxH52z67H ┆   ┆           ┆ AdU1hkBWe ┆ 8         ┆ 2        │\n",
       "│ 7uYr8Evox ┆ S8EmxGTJY ┆ 6wuN6rP4w ┆ LaerZXFRu ┆   ┆           ┆ EZcL19rMe ┆ 23:45:17  ┆          │\n",
       "│ xF7…      ┆ AKt…      ┆ AFp…      ┆ bF4…      ┆   ┆           ┆ CLJ…      ┆           ┆          │\n",
       "│ 4PMpbfLMy ┆ 5Q544fKrF ┆ APU2BpNbs ┆ xv8yd91ck ┆ … ┆ 54.511898 ┆ GSoT84vkz ┆ 2024-12-0 ┆ 30628019 │\n",
       "│ oPZHUZCyE ┆ oe6tsEbD7 ┆ jsxFqxwj8 ┆ rxH52z67H ┆   ┆           ┆ AdU1hkBWe ┆ 8         ┆ 2        │\n",
       "│ DhXhwHXyJ ┆ S8EmxGTJY ┆ 6wuN6rP4w ┆ LaerZXFRu ┆   ┆           ┆ EZcL19rMe ┆ 23:45:17  ┆          │\n",
       "│ 5GF…      ┆ AKt…      ┆ AFp…      ┆ bF4…      ┆   ┆           ┆ CLJ…      ┆           ┆          │\n",
       "│ 4t2S7Qk7z ┆ 5Q544fKrF ┆ APU2BpNbs ┆ xv8yd91ck ┆ … ┆ 54.511908 ┆ GSoT84vkz ┆ 2024-12-0 ┆ 30628019 │\n",
       "│ bV7qaZjre ┆ oe6tsEbD7 ┆ jsxFqxwj8 ┆ rxH52z67H ┆   ┆           ┆ AdU1hkBWe ┆ 8         ┆ 2        │\n",
       "│ gMQ3n66Db ┆ S8EmxGTJY ┆ 6wuN6rP4w ┆ LaerZXFRu ┆   ┆           ┆ EZcL19rMe ┆ 23:45:17  ┆          │\n",
       "│ v89…      ┆ AKt…      ┆ AFp…      ┆ bF4…      ┆   ┆           ┆ CLJ…      ┆           ┆          │\n",
       "│ …         ┆ …         ┆ …         ┆ …         ┆ … ┆ …         ┆ …         ┆ …         ┆ …        │\n",
       "│ mb1Yz9Jpg ┆ 7vi5dyBk6 ┆ 27V4G3DHF ┆ orcaEKTdK ┆ … ┆ 1.2054e6  ┆ HMw6T5r7e ┆ 2024-12-0 ┆ 30628183 │\n",
       "│ opnCw2QPt ┆ s7nj3HPmS ┆ 4x5mybjED ┆ 7LKz57vaA ┆   ┆           ┆ aXq6WgDCp ┆ 8         ┆ 1        │\n",
       "│ g97CoUNJR ┆ N35Ts2ZXk ┆ 1WNTN6Cy6 ┆ Yr9QeNsVE ┆   ┆           ┆ ZYJn5bBGz ┆ 23:56:30  ┆          │\n",
       "│ Ksh…      ┆ aKK…      ┆ WSV…      ┆ Pfi…      ┆   ┆           ┆ iNH…      ┆           ┆          │\n",
       "│ 3LKJ5Tqme ┆ 7nuFxQAu8 ┆ AjaA3x3i4 ┆ 4Bo121MZ4 ┆ … ┆ 6.4195e7  ┆ FfirHqUoT ┆ 2024-12-0 ┆ 30628183 │\n",
       "│ 88akZB14b ┆ SSD81PaXU ┆ VgtaQonmX ┆ C16XEsz47 ┆   ┆           ┆ 1q7tjfjGT ┆ 8         ┆ 1        │\n",
       "│ ndktaXqd2 ┆ fiTCLRRBm ┆ 6wAucANhr ┆ MbmuyEx1C ┆   ┆           ┆ AJdnicQGm ┆ 23:56:30  ┆          │\n",
       "│ dPS…      ┆ Coe…      ┆ 79Z…      ┆ FXe…      ┆   ┆           ┆ YW1…      ┆           ┆          │\n",
       "│ 3ZDXYYxZA ┆ DCBiiQf9S ┆ 4q2MvCf7c ┆ GfHjaxzmP ┆ … ┆ 2.2347e7  ┆ 7bBf1PhrM ┆ 2024-12-0 ┆ 30628183 │\n",
       "│ Libm2ZBSh ┆ zZeUB8mo9 ┆ QbT4B1YPR ┆ QH1FriETc ┆   ┆           ┆ 3yk8Miszd ┆ 8         ┆ 1        │\n",
       "│ RyS6rqQ17 ┆ LrTf13BzG ┆ sZAmB6fVJ ┆ k6Hivr9j9 ┆   ┆           ┆ CNfMeFm1z ┆ 23:56:30  ┆          │\n",
       "│ AAq…      ┆ ja6…      ┆ iGZ…      ┆ wDQ…      ┆   ┆           ┆ Gtf…      ┆           ┆          │\n",
       "│ WFrkxhR9D ┆ 5Q544fKrF ┆ FGwFpW3DP ┆ A1vkKpcCf ┆ … ┆ 211.69164 ┆ B3cLhe2zY ┆ 2024-12-0 ┆ 30628183 │\n",
       "│ 9Yy7fCve1 ┆ oe6tsEbD7 ┆ phQZ3svdj ┆ HMmtVnRvf ┆   ┆ 7         ┆ F51X1NkJf ┆ 8         ┆ 1        │\n",
       "│ 8iZmagV9d ┆ S8EmxGTJY ┆ KbCQLLcYj ┆ PZFW6oBPm ┆   ┆           ┆ yFQ1PNZJe ┆ 23:56:30  ┆          │\n",
       "│ WMN…      ┆ AKt…      ┆ vzR…      ┆ FFE…      ┆   ┆           ┆ tVx…      ┆           ┆          │\n",
       "│ tdvnGC7BJ ┆ 4fguQqSwM ┆ 7K1NWmhm2 ┆ EPjFWdd5A ┆ … ┆ 1.3825e6  ┆ 6Q6U8JUef ┆ 2024-12-0 ┆ 30628183 │\n",
       "│ CwNSoHYBb ┆ kie3ub6tr ┆ GGuzjnMMw ┆ ufqSSqeM2 ┆   ┆           ┆ rxjo8nE4G ┆ 8         ┆ 1        │\n",
       "│ jpqX9qg31 ┆ tMFbCE4Ag ┆ 6G4bDZvvC ┆ qN1xzybap ┆   ┆           ┆ NDysFfYaY ┆ 23:56:30  ┆          │\n",
       "│ BFP…      ┆ TLo…      ┆ 29P…      ┆ C8G…      ┆   ┆           ┆ 2Xa…      ┆           ┆          │\n",
       "└───────────┴───────────┴───────────┴───────────┴───┴───────────┴───────────┴───────────┴──────────┘"
      ]
     },
     "execution_count": 27,
     "metadata": {},
     "output_type": "execute_result"
    }
   ],
   "source": [
    "q = \"\"\"\n",
    "SELECT * FROM public.tx_detail_v2\n",
    "\"\"\"\n",
    "df = pl.read_database(\n",
    "    q,\n",
    "    connection=engine\n",
    ")\n",
    "df\n"
   ]
  },
  {
   "cell_type": "code",
   "execution_count": 31,
   "metadata": {},
   "outputs": [
    {
     "data": {
      "text/html": [
       "<div><style>\n",
       ".dataframe > thead > tr,\n",
       ".dataframe > tbody > tr {\n",
       "  text-align: right;\n",
       "  white-space: pre-wrap;\n",
       "}\n",
       "</style>\n",
       "<small>shape: (4, 9)</small><table border=\"1\" class=\"dataframe\"><thead><tr><th>key</th><th>product_account_key</th><th>symbol</th><th>status</th><th>price</th><th>timestamp</th><th>ci</th><th>address</th><th>name</th></tr><tr><td>str</td><td>str</td><td>str</td><td>str</td><td>f64</td><td>i64</td><td>f64</td><td>str</td><td>str</td></tr></thead><tbody><tr><td>&quot;H6ARHf6YXhGYeQfUzQNGk6rDNnLBQK…</td><td>&quot;ALP8SdU9oARYVLgLR7LrqMNCYBnhtn…</td><td>&quot;SOL&quot;</td><td>&quot;TRADING&quot;</td><td>236.60505</td><td>1733702722</td><td>0.14667</td><td>&quot;So1111111111111111111111111111…</td><td>&quot;Wrapped SOL&quot;</td></tr><tr><td>&quot;GVXRSBjFk6e6J3NbVPXohDJetcTjae…</td><td>&quot;4aDoSXJ5o3AuvL7QFeR6h44jALQfTm…</td><td>&quot;BTC&quot;</td><td>&quot;TRADING&quot;</td><td>100934.756868</td><td>1733702722</td><td>52.823864</td><td>&quot;9n4nbM75f5Ui33ZbPYXn59EwSgE8CG…</td><td>&quot;Wrapped Bitcoin (Sollet)&quot;</td></tr><tr><td>&quot;ETp9eKXVv1dWwHSpsXRUuXHmw24PwR…</td><td>&quot;HyEB4Goiv7QyfFStaBn49JqQzSTV1y…</td><td>&quot;FIDA&quot;</td><td>&quot;TRADING&quot;</td><td>0.3905978</td><td>1733702722</td><td>0.000628</td><td>&quot;EchesyfXePKdLtoiZSL8pBe8Myagyy…</td><td>&quot;Bonfida&quot;</td></tr><tr><td>&quot;AnLf8tVYCM816gmBjiy8n53eXKKEDy…</td><td>&quot;EjtaES3pbMCaNrVFtZ5sT36WPXAnAR…</td><td>&quot;RAY&quot;</td><td>&quot;TRADING&quot;</td><td>4.955418</td><td>1733702722</td><td>0.005477</td><td>&quot;4k3Dyjzvzp8eMZWUXbBCjEvwSkkk59…</td><td>&quot;Raydium&quot;</td></tr></tbody></table></div>"
      ],
      "text/plain": [
       "shape: (4, 9)\n",
       "┌────────────┬────────────┬────────┬─────────┬───┬────────────┬───────────┬────────────┬───────────┐\n",
       "│ key        ┆ product_ac ┆ symbol ┆ status  ┆ … ┆ timestamp  ┆ ci        ┆ address    ┆ name      │\n",
       "│ ---        ┆ count_key  ┆ ---    ┆ ---     ┆   ┆ ---        ┆ ---       ┆ ---        ┆ ---       │\n",
       "│ str        ┆ ---        ┆ str    ┆ str     ┆   ┆ i64        ┆ f64       ┆ str        ┆ str       │\n",
       "│            ┆ str        ┆        ┆         ┆   ┆            ┆           ┆            ┆           │\n",
       "╞════════════╪════════════╪════════╪═════════╪═══╪════════════╪═══════════╪════════════╪═══════════╡\n",
       "│ H6ARHf6YXh ┆ ALP8SdU9oA ┆ SOL    ┆ TRADING ┆ … ┆ 1733702722 ┆ 0.14667   ┆ So11111111 ┆ Wrapped   │\n",
       "│ GYeQfUzQNG ┆ RYVLgLR7Lr ┆        ┆         ┆   ┆            ┆           ┆ 1111111111 ┆ SOL       │\n",
       "│ k6rDNnLBQK ┆ qMNCYBnhtn ┆        ┆         ┆   ┆            ┆           ┆ 1111111111 ┆           │\n",
       "│ …          ┆ …          ┆        ┆         ┆   ┆            ┆           ┆ …          ┆           │\n",
       "│ GVXRSBjFk6 ┆ 4aDoSXJ5o3 ┆ BTC    ┆ TRADING ┆ … ┆ 1733702722 ┆ 52.823864 ┆ 9n4nbM75f5 ┆ Wrapped   │\n",
       "│ e6J3NbVPXo ┆ AuvL7QFeR6 ┆        ┆         ┆   ┆            ┆           ┆ Ui33ZbPYXn ┆ Bitcoin   │\n",
       "│ hDJetcTjae ┆ h44jALQfTm ┆        ┆         ┆   ┆            ┆           ┆ 59EwSgE8CG ┆ (Sollet)  │\n",
       "│ …          ┆ …          ┆        ┆         ┆   ┆            ┆           ┆ …          ┆           │\n",
       "│ ETp9eKXVv1 ┆ HyEB4Goiv7 ┆ FIDA   ┆ TRADING ┆ … ┆ 1733702722 ┆ 0.000628  ┆ EchesyfXeP ┆ Bonfida   │\n",
       "│ dWwHSpsXRU ┆ QyfFStaBn4 ┆        ┆         ┆   ┆            ┆           ┆ KdLtoiZSL8 ┆           │\n",
       "│ uXHmw24PwR ┆ 9JqQzSTV1y ┆        ┆         ┆   ┆            ┆           ┆ pBe8Myagyy ┆           │\n",
       "│ …          ┆ …          ┆        ┆         ┆   ┆            ┆           ┆ …          ┆           │\n",
       "│ AnLf8tVYCM ┆ EjtaES3pbM ┆ RAY    ┆ TRADING ┆ … ┆ 1733702722 ┆ 0.005477  ┆ 4k3Dyjzvzp ┆ Raydium   │\n",
       "│ 816gmBjiy8 ┆ CaNrVFtZ5s ┆        ┆         ┆   ┆            ┆           ┆ 8eMZWUXbBC ┆           │\n",
       "│ n53eXKKEDy ┆ T36WPXAnAR ┆        ┆         ┆   ┆            ┆           ┆ jEvwSkkk59 ┆           │\n",
       "│ …          ┆ …          ┆        ┆         ┆   ┆            ┆           ┆ …          ┆           │\n",
       "└────────────┴────────────┴────────┴─────────┴───┴────────────┴───────────┴────────────┴───────────┘"
      ]
     },
     "execution_count": 31,
     "metadata": {},
     "output_type": "execute_result"
    }
   ],
   "source": [
    "df_price = await asol.getPrices()\n",
    "df_token = AtlasSol.getTokenList()\n",
    "df_price = df_price.with_columns(\n",
    "    pl.col(\"symbol\").str.split(\"/\").list.first().alias(\"symbol\"),\n",
    ").join(\n",
    "    df_token.select(\"address\", \"symbol\", 'name'),\n",
    "    on=\"symbol\",\n",
    "    how=\"inner\"\n",
    ")\n",
    "df_price.head(4)"
   ]
  },
  {
   "cell_type": "code",
   "execution_count": 39,
   "metadata": {},
   "outputs": [
    {
     "data": {
      "text/html": [
       "<div><style>\n",
       ".dataframe > thead > tr,\n",
       ".dataframe > tbody > tr {\n",
       "  text-align: right;\n",
       "  white-space: pre-wrap;\n",
       "}\n",
       "</style>\n",
       "<small>shape: (10_166, 20)</small><table border=\"1\" class=\"dataframe\"><thead><tr><th>signature</th><th>owner</th><th>account</th><th>mint</th><th>wallet_prebalance</th><th>wallet_postbalance</th><th>owner_cp</th><th>account_cp</th><th>wallet_prebalance_cp</th><th>wallet_postbalance_cp</th><th>mint_cp</th><th>wallet_prebalance_sold</th><th>wallet_postbalance_sold</th><th>account_sold</th><th>timestamp</th><th>parent_slot</th><th>mint_price</th><th>mint_name</th><th>mint_cp_price</th><th>mint_cp_name</th></tr><tr><td>str</td><td>str</td><td>str</td><td>str</td><td>f64</td><td>f64</td><td>str</td><td>str</td><td>f64</td><td>f64</td><td>str</td><td>f64</td><td>f64</td><td>str</td><td>datetime[μs]</td><td>i64</td><td>f64</td><td>str</td><td>f64</td><td>str</td></tr></thead><tbody><tr><td>&quot;2887tRV2FjyfcWc7vCQ3raJyrcosPy…</td><td>&quot;3khmkbjgxisdw2uT9H8pdgxSGsYwYW…</td><td>&quot;99rs3v5754GMQkf2KBf1sL2tj6q95f…</td><td>&quot;So1111111111111111111111111111…</td><td>1.54</td><td>1.32</td><td>&quot;5Q544fKrFoe6tsEbD7S8EmxGTJYAKt…</td><td>&quot;67kvwjMKT2nmPvWMQmLraTWK7y8Jch…</td><td>173.635275</td><td>173.855275</td><td>&quot;So1111111111111111111111111111…</td><td>173.635275</td><td>173.855275</td><td>&quot;67kvwjMKT2nmPvWMQmLraTWK7y8Jch…</td><td>2024-12-08 23:45:17</td><td>306280192</td><td>236.60505</td><td>&quot;Wrapped SOL&quot;</td><td>236.60505</td><td>&quot;Wrapped SOL&quot;</td></tr><tr><td>&quot;2887tRV2FjyfcWc7vCQ3raJyrcosPy…</td><td>&quot;3khmkbjgxisdw2uT9H8pdgxSGsYwYW…</td><td>&quot;99rs3v5754GMQkf2KBf1sL2tj6q95f…</td><td>&quot;So1111111111111111111111111111…</td><td>1.54</td><td>1.32</td><td>&quot;5Q544fKrFoe6tsEbD7S8EmxGTJYAKt…</td><td>&quot;67kvwjMKT2nmPvWMQmLraTWK7y8Jch…</td><td>173.635275</td><td>173.855275</td><td>&quot;So1111111111111111111111111111…</td><td>173.635275</td><td>173.855275</td><td>&quot;67kvwjMKT2nmPvWMQmLraTWK7y8Jch…</td><td>2024-12-08 23:45:17</td><td>306280192</td><td>236.60505</td><td>&quot;Wrapped SOL&quot;</td><td>236.60505</td><td>&quot;Wrapped SOL&quot;</td></tr><tr><td>&quot;2887tRV2FjyfcWc7vCQ3raJyrcosPy…</td><td>&quot;3khmkbjgxisdw2uT9H8pdgxSGsYwYW…</td><td>&quot;99rs3v5754GMQkf2KBf1sL2tj6q95f…</td><td>&quot;So1111111111111111111111111111…</td><td>1.54</td><td>1.32</td><td>&quot;5Q544fKrFoe6tsEbD7S8EmxGTJYAKt…</td><td>&quot;67kvwjMKT2nmPvWMQmLraTWK7y8Jch…</td><td>173.635275</td><td>173.855275</td><td>&quot;So1111111111111111111111111111…</td><td>173.635275</td><td>173.855275</td><td>&quot;67kvwjMKT2nmPvWMQmLraTWK7y8Jch…</td><td>2024-12-08 23:45:17</td><td>306280192</td><td>236.60505</td><td>&quot;Wrapped SOL&quot;</td><td>236.60505</td><td>&quot;Wrapped SOL&quot;</td></tr><tr><td>&quot;2887tRV2FjyfcWc7vCQ3raJyrcosPy…</td><td>&quot;3khmkbjgxisdw2uT9H8pdgxSGsYwYW…</td><td>&quot;99rs3v5754GMQkf2KBf1sL2tj6q95f…</td><td>&quot;So1111111111111111111111111111…</td><td>1.54</td><td>1.32</td><td>&quot;5Q544fKrFoe6tsEbD7S8EmxGTJYAKt…</td><td>&quot;67kvwjMKT2nmPvWMQmLraTWK7y8Jch…</td><td>173.635275</td><td>173.855275</td><td>&quot;So1111111111111111111111111111…</td><td>173.635275</td><td>173.855275</td><td>&quot;67kvwjMKT2nmPvWMQmLraTWK7y8Jch…</td><td>2024-12-08 23:45:17</td><td>306280192</td><td>236.60505</td><td>&quot;Wrapped SOL&quot;</td><td>236.60505</td><td>&quot;Wrapped SOL&quot;</td></tr><tr><td>&quot;63vpc9MAf4Rf598Yb7taVXnnxrMpgv…</td><td>&quot;8tqLiEcJZZ5nBRYVR1HAWgChoYJsS7…</td><td>&quot;ECXFKACnrfRfNUSx9S5Pz7qjdKuVey…</td><td>&quot;So1111111111111111111111111111…</td><td>72.6</td><td>72.3</td><td>&quot;5Q544fKrFoe6tsEbD7S8EmxGTJYAKt…</td><td>&quot;67kvwjMKT2nmPvWMQmLraTWK7y8Jch…</td><td>173.855275</td><td>174.155275</td><td>&quot;So1111111111111111111111111111…</td><td>173.855275</td><td>174.155275</td><td>&quot;67kvwjMKT2nmPvWMQmLraTWK7y8Jch…</td><td>2024-12-08 23:45:17</td><td>306280192</td><td>236.60505</td><td>&quot;Wrapped SOL&quot;</td><td>236.60505</td><td>&quot;Wrapped SOL&quot;</td></tr><tr><td>&hellip;</td><td>&hellip;</td><td>&hellip;</td><td>&hellip;</td><td>&hellip;</td><td>&hellip;</td><td>&hellip;</td><td>&hellip;</td><td>&hellip;</td><td>&hellip;</td><td>&hellip;</td><td>&hellip;</td><td>&hellip;</td><td>&hellip;</td><td>&hellip;</td><td>&hellip;</td><td>&hellip;</td><td>&hellip;</td><td>&hellip;</td><td>&hellip;</td></tr><tr><td>&quot;2JehXx8RRpcbbH9KZ5V74NL9CGpzFQ…</td><td>&quot;67yGLFnfA5EnGF3AwzShcfh8VbEujM…</td><td>&quot;67yGLFnfA5EnGF3AwzShcfh8VbEujM…</td><td>&quot;7vfCXTUXx5WJV5JADk17DUJ4ksgau7…</td><td>154.2974</td><td>154.3</td><td>&quot;6ZUeThQ9FovzaS8HejAfGW2VqCXwRY…</td><td>&quot;BYkeygvLcPRZfiAnahrzgcDu6P5bU4…</td><td>22.376461</td><td>22.373861</td><td>&quot;7vfCXTUXx5WJV5JADk17DUJ4ksgau7…</td><td>22.376461</td><td>22.373861</td><td>&quot;BYkeygvLcPRZfiAnahrzgcDu6P5bU4…</td><td>2024-12-08 23:56:30</td><td>306281831</td><td>3995.663841</td><td>&quot;Ether (Portal)&quot;</td><td>3995.663841</td><td>&quot;Ether (Portal)&quot;</td></tr><tr><td>&quot;qKWEYZQH6sX1peoecKEZpUfbFASLFg…</td><td>&quot;GFZ31NqdtcEowYsTh4qWWVpFbK11fE…</td><td>&quot;Fr8MeQNsjfjz9ybsSfuwydbaZnqggi…</td><td>&quot;So1111111111111111111111111111…</td><td>2.0</td><td>0.0</td><td>&quot;8EyLmmyt8VNqhu8c2NzJ2BCTEZZk4W…</td><td>&quot;5eUioESbfewMHtu9DPnMwnoDZyRTsd…</td><td>1542.233641</td><td>1544.233641</td><td>&quot;So1111111111111111111111111111…</td><td>1542.233641</td><td>1544.233641</td><td>&quot;5eUioESbfewMHtu9DPnMwnoDZyRTsd…</td><td>2024-12-08 23:56:30</td><td>306281831</td><td>236.60505</td><td>&quot;Wrapped SOL&quot;</td><td>236.60505</td><td>&quot;Wrapped SOL&quot;</td></tr><tr><td>&quot;qKWEYZQH6sX1peoecKEZpUfbFASLFg…</td><td>&quot;GFZ31NqdtcEowYsTh4qWWVpFbK11fE…</td><td>&quot;Fr8MeQNsjfjz9ybsSfuwydbaZnqggi…</td><td>&quot;So1111111111111111111111111111…</td><td>2.0</td><td>0.0</td><td>&quot;8EyLmmyt8VNqhu8c2NzJ2BCTEZZk4W…</td><td>&quot;5eUioESbfewMHtu9DPnMwnoDZyRTsd…</td><td>1542.233641</td><td>1544.233641</td><td>&quot;So1111111111111111111111111111…</td><td>1542.233641</td><td>1544.233641</td><td>&quot;5eUioESbfewMHtu9DPnMwnoDZyRTsd…</td><td>2024-12-08 23:56:30</td><td>306281831</td><td>236.60505</td><td>&quot;Wrapped SOL&quot;</td><td>236.60505</td><td>&quot;Wrapped SOL&quot;</td></tr><tr><td>&quot;qKWEYZQH6sX1peoecKEZpUfbFASLFg…</td><td>&quot;GFZ31NqdtcEowYsTh4qWWVpFbK11fE…</td><td>&quot;Fr8MeQNsjfjz9ybsSfuwydbaZnqggi…</td><td>&quot;So1111111111111111111111111111…</td><td>2.0</td><td>0.0</td><td>&quot;8EyLmmyt8VNqhu8c2NzJ2BCTEZZk4W…</td><td>&quot;5eUioESbfewMHtu9DPnMwnoDZyRTsd…</td><td>1542.233641</td><td>1544.233641</td><td>&quot;So1111111111111111111111111111…</td><td>1542.233641</td><td>1544.233641</td><td>&quot;5eUioESbfewMHtu9DPnMwnoDZyRTsd…</td><td>2024-12-08 23:56:30</td><td>306281831</td><td>236.60505</td><td>&quot;Wrapped SOL&quot;</td><td>236.60505</td><td>&quot;Wrapped SOL&quot;</td></tr><tr><td>&quot;qKWEYZQH6sX1peoecKEZpUfbFASLFg…</td><td>&quot;GFZ31NqdtcEowYsTh4qWWVpFbK11fE…</td><td>&quot;Fr8MeQNsjfjz9ybsSfuwydbaZnqggi…</td><td>&quot;So1111111111111111111111111111…</td><td>2.0</td><td>0.0</td><td>&quot;8EyLmmyt8VNqhu8c2NzJ2BCTEZZk4W…</td><td>&quot;5eUioESbfewMHtu9DPnMwnoDZyRTsd…</td><td>1542.233641</td><td>1544.233641</td><td>&quot;So1111111111111111111111111111…</td><td>1542.233641</td><td>1544.233641</td><td>&quot;5eUioESbfewMHtu9DPnMwnoDZyRTsd…</td><td>2024-12-08 23:56:30</td><td>306281831</td><td>236.60505</td><td>&quot;Wrapped SOL&quot;</td><td>236.60505</td><td>&quot;Wrapped SOL&quot;</td></tr></tbody></table></div>"
      ],
      "text/plain": [
       "shape: (10_166, 20)\n",
       "┌───────────┬───────────┬───────────┬───────────┬───┬───────────┬───────────┬───────────┬──────────┐\n",
       "│ signature ┆ owner     ┆ account   ┆ mint      ┆ … ┆ mint_pric ┆ mint_name ┆ mint_cp_p ┆ mint_cp_ │\n",
       "│ ---       ┆ ---       ┆ ---       ┆ ---       ┆   ┆ e         ┆ ---       ┆ rice      ┆ name     │\n",
       "│ str       ┆ str       ┆ str       ┆ str       ┆   ┆ ---       ┆ str       ┆ ---       ┆ ---      │\n",
       "│           ┆           ┆           ┆           ┆   ┆ f64       ┆           ┆ f64       ┆ str      │\n",
       "╞═══════════╪═══════════╪═══════════╪═══════════╪═══╪═══════════╪═══════════╪═══════════╪══════════╡\n",
       "│ 2887tRV2F ┆ 3khmkbjgx ┆ 99rs3v575 ┆ So1111111 ┆ … ┆ 236.60505 ┆ Wrapped   ┆ 236.60505 ┆ Wrapped  │\n",
       "│ jyfcWc7vC ┆ isdw2uT9H ┆ 4GMQkf2KB ┆ 111111111 ┆   ┆           ┆ SOL       ┆           ┆ SOL      │\n",
       "│ Q3raJyrco ┆ 8pdgxSGsY ┆ f1sL2tj6q ┆ 111111111 ┆   ┆           ┆           ┆           ┆          │\n",
       "│ sPy…      ┆ wYW…      ┆ 95f…      ┆ 111…      ┆   ┆           ┆           ┆           ┆          │\n",
       "│ 2887tRV2F ┆ 3khmkbjgx ┆ 99rs3v575 ┆ So1111111 ┆ … ┆ 236.60505 ┆ Wrapped   ┆ 236.60505 ┆ Wrapped  │\n",
       "│ jyfcWc7vC ┆ isdw2uT9H ┆ 4GMQkf2KB ┆ 111111111 ┆   ┆           ┆ SOL       ┆           ┆ SOL      │\n",
       "│ Q3raJyrco ┆ 8pdgxSGsY ┆ f1sL2tj6q ┆ 111111111 ┆   ┆           ┆           ┆           ┆          │\n",
       "│ sPy…      ┆ wYW…      ┆ 95f…      ┆ 111…      ┆   ┆           ┆           ┆           ┆          │\n",
       "│ 2887tRV2F ┆ 3khmkbjgx ┆ 99rs3v575 ┆ So1111111 ┆ … ┆ 236.60505 ┆ Wrapped   ┆ 236.60505 ┆ Wrapped  │\n",
       "│ jyfcWc7vC ┆ isdw2uT9H ┆ 4GMQkf2KB ┆ 111111111 ┆   ┆           ┆ SOL       ┆           ┆ SOL      │\n",
       "│ Q3raJyrco ┆ 8pdgxSGsY ┆ f1sL2tj6q ┆ 111111111 ┆   ┆           ┆           ┆           ┆          │\n",
       "│ sPy…      ┆ wYW…      ┆ 95f…      ┆ 111…      ┆   ┆           ┆           ┆           ┆          │\n",
       "│ 2887tRV2F ┆ 3khmkbjgx ┆ 99rs3v575 ┆ So1111111 ┆ … ┆ 236.60505 ┆ Wrapped   ┆ 236.60505 ┆ Wrapped  │\n",
       "│ jyfcWc7vC ┆ isdw2uT9H ┆ 4GMQkf2KB ┆ 111111111 ┆   ┆           ┆ SOL       ┆           ┆ SOL      │\n",
       "│ Q3raJyrco ┆ 8pdgxSGsY ┆ f1sL2tj6q ┆ 111111111 ┆   ┆           ┆           ┆           ┆          │\n",
       "│ sPy…      ┆ wYW…      ┆ 95f…      ┆ 111…      ┆   ┆           ┆           ┆           ┆          │\n",
       "│ 63vpc9MAf ┆ 8tqLiEcJZ ┆ ECXFKACnr ┆ So1111111 ┆ … ┆ 236.60505 ┆ Wrapped   ┆ 236.60505 ┆ Wrapped  │\n",
       "│ 4Rf598Yb7 ┆ Z5nBRYVR1 ┆ fRfNUSx9S ┆ 111111111 ┆   ┆           ┆ SOL       ┆           ┆ SOL      │\n",
       "│ taVXnnxrM ┆ HAWgChoYJ ┆ 5Pz7qjdKu ┆ 111111111 ┆   ┆           ┆           ┆           ┆          │\n",
       "│ pgv…      ┆ sS7…      ┆ Vey…      ┆ 111…      ┆   ┆           ┆           ┆           ┆          │\n",
       "│ …         ┆ …         ┆ …         ┆ …         ┆ … ┆ …         ┆ …         ┆ …         ┆ …        │\n",
       "│ 2JehXx8RR ┆ 67yGLFnfA ┆ 67yGLFnfA ┆ 7vfCXTUXx ┆ … ┆ 3995.6638 ┆ Ether     ┆ 3995.6638 ┆ Ether    │\n",
       "│ pcbbH9KZ5 ┆ 5EnGF3Awz ┆ 5EnGF3Awz ┆ 5WJV5JADk ┆   ┆ 41        ┆ (Portal)  ┆ 41        ┆ (Portal) │\n",
       "│ V74NL9CGp ┆ Shcfh8VbE ┆ Shcfh8VbE ┆ 17DUJ4ksg ┆   ┆           ┆           ┆           ┆          │\n",
       "│ zFQ…      ┆ ujM…      ┆ ujM…      ┆ au7…      ┆   ┆           ┆           ┆           ┆          │\n",
       "│ qKWEYZQH6 ┆ GFZ31Nqdt ┆ Fr8MeQNsj ┆ So1111111 ┆ … ┆ 236.60505 ┆ Wrapped   ┆ 236.60505 ┆ Wrapped  │\n",
       "│ sX1peoecK ┆ cEowYsTh4 ┆ fjz9ybsSf ┆ 111111111 ┆   ┆           ┆ SOL       ┆           ┆ SOL      │\n",
       "│ EZpUfbFAS ┆ qWWVpFbK1 ┆ uwydbaZnq ┆ 111111111 ┆   ┆           ┆           ┆           ┆          │\n",
       "│ LFg…      ┆ 1fE…      ┆ ggi…      ┆ 111…      ┆   ┆           ┆           ┆           ┆          │\n",
       "│ qKWEYZQH6 ┆ GFZ31Nqdt ┆ Fr8MeQNsj ┆ So1111111 ┆ … ┆ 236.60505 ┆ Wrapped   ┆ 236.60505 ┆ Wrapped  │\n",
       "│ sX1peoecK ┆ cEowYsTh4 ┆ fjz9ybsSf ┆ 111111111 ┆   ┆           ┆ SOL       ┆           ┆ SOL      │\n",
       "│ EZpUfbFAS ┆ qWWVpFbK1 ┆ uwydbaZnq ┆ 111111111 ┆   ┆           ┆           ┆           ┆          │\n",
       "│ LFg…      ┆ 1fE…      ┆ ggi…      ┆ 111…      ┆   ┆           ┆           ┆           ┆          │\n",
       "│ qKWEYZQH6 ┆ GFZ31Nqdt ┆ Fr8MeQNsj ┆ So1111111 ┆ … ┆ 236.60505 ┆ Wrapped   ┆ 236.60505 ┆ Wrapped  │\n",
       "│ sX1peoecK ┆ cEowYsTh4 ┆ fjz9ybsSf ┆ 111111111 ┆   ┆           ┆ SOL       ┆           ┆ SOL      │\n",
       "│ EZpUfbFAS ┆ qWWVpFbK1 ┆ uwydbaZnq ┆ 111111111 ┆   ┆           ┆           ┆           ┆          │\n",
       "│ LFg…      ┆ 1fE…      ┆ ggi…      ┆ 111…      ┆   ┆           ┆           ┆           ┆          │\n",
       "│ qKWEYZQH6 ┆ GFZ31Nqdt ┆ Fr8MeQNsj ┆ So1111111 ┆ … ┆ 236.60505 ┆ Wrapped   ┆ 236.60505 ┆ Wrapped  │\n",
       "│ sX1peoecK ┆ cEowYsTh4 ┆ fjz9ybsSf ┆ 111111111 ┆   ┆           ┆ SOL       ┆           ┆ SOL      │\n",
       "│ EZpUfbFAS ┆ qWWVpFbK1 ┆ uwydbaZnq ┆ 111111111 ┆   ┆           ┆           ┆           ┆          │\n",
       "│ LFg…      ┆ 1fE…      ┆ ggi…      ┆ 111…      ┆   ┆           ┆           ┆           ┆          │\n",
       "└───────────┴───────────┴───────────┴───────────┴───┴───────────┴───────────┴───────────┴──────────┘"
      ]
     },
     "execution_count": 39,
     "metadata": {},
     "output_type": "execute_result"
    }
   ],
   "source": [
    "df_res = df.join(\n",
    "    df_price.select(\n",
    "        [\n",
    "            pl.col(\"address\").alias(\"mint\"),\n",
    "            pl.col(\"price\").alias(\"mint_price\"),\n",
    "            pl.col(\"name\").alias(\"mint_name\"),\n",
    "        ]\n",
    "    ),\n",
    "    on=\"mint\",\n",
    ")\n",
    "df_res = df_res.join(\n",
    "    df_price.select(\n",
    "        [\n",
    "            pl.col(\"address\").alias(\"mint_cp\"),\n",
    "            pl.col(\"price\").alias(\"mint_cp_price\"),\n",
    "            pl.col(\"name\").alias(\"mint_cp_name\"),\n",
    "        ]\n",
    "    ),\n",
    "    on=\"mint_cp\",\n",
    ")\n",
    "df_res"
   ]
  },
  {
   "cell_type": "code",
   "execution_count": 42,
   "metadata": {},
   "outputs": [
    {
     "data": {
      "text/html": [
       "<div><style>\n",
       ".dataframe > thead > tr,\n",
       ".dataframe > tbody > tr {\n",
       "  text-align: right;\n",
       "  white-space: pre-wrap;\n",
       "}\n",
       "</style>\n",
       "<small>shape: (9, 2)</small><table border=\"1\" class=\"dataframe\"><thead><tr><th>mint_cp_name</th><th>mint_traded_usd</th></tr><tr><td>str</td><td>f64</td></tr></thead><tbody><tr><td>&quot;Orca&quot;</td><td>-1.2381e7</td></tr><tr><td>&quot;Star Atlas&quot;</td><td>-15547.111614</td></tr><tr><td>&quot;Raydium&quot;</td><td>-9426.107819</td></tr><tr><td>&quot;AVAX (Portal)&quot;</td><td>-0.193519</td></tr><tr><td>&quot;FTM (Allbridge from Fantom)&quot;</td><td>2.674287</td></tr><tr><td>&quot;Bonfida&quot;</td><td>52.79417</td></tr><tr><td>&quot;GMT&quot;</td><td>429.463065</td></tr><tr><td>&quot;Ether (Portal)&quot;</td><td>536123.852796</td></tr><tr><td>&quot;Wrapped SOL&quot;</td><td>3.9224e6</td></tr></tbody></table></div>"
      ],
      "text/plain": [
       "shape: (9, 2)\n",
       "┌─────────────────────────────┬─────────────────┐\n",
       "│ mint_cp_name                ┆ mint_traded_usd │\n",
       "│ ---                         ┆ ---             │\n",
       "│ str                         ┆ f64             │\n",
       "╞═════════════════════════════╪═════════════════╡\n",
       "│ Orca                        ┆ -1.2381e7       │\n",
       "│ Star Atlas                  ┆ -15547.111614   │\n",
       "│ Raydium                     ┆ -9426.107819    │\n",
       "│ AVAX (Portal)               ┆ -0.193519       │\n",
       "│ FTM (Allbridge from Fantom) ┆ 2.674287        │\n",
       "│ Bonfida                     ┆ 52.79417        │\n",
       "│ GMT                         ┆ 429.463065      │\n",
       "│ Ether (Portal)              ┆ 536123.852796   │\n",
       "│ Wrapped SOL                 ┆ 3.9224e6        │\n",
       "└─────────────────────────────┴─────────────────┘"
      ]
     },
     "execution_count": 42,
     "metadata": {},
     "output_type": "execute_result"
    }
   ],
   "source": [
    "df_res.with_columns(\n",
    "    (\n",
    "        (pl.col(\"wallet_prebalance\") - pl.col(\"wallet_postbalance\"))\n",
    "        * pl.col(\"mint_price\")\n",
    "    ).alias(\"mint_traded_usd\"),\n",
    ").group_by(\n",
    "    pl.col(\"mint_cp_name\")\n",
    ").agg(\n",
    "    [\n",
    "        pl.col(\"mint_traded_usd\").sum().alias(\"mint_traded_usd\"),\n",
    "    ]\n",
    ").sort(\"mint_traded_usd\")"
   ]
  },
  {
   "cell_type": "code",
   "execution_count": 82,
   "metadata": {},
   "outputs": [],
   "source": [
    "account_ops = TokenAccountOpts(\n",
    "    program_id=Pubkey.from_string(\n",
    "        \"TokenkegQfeZyiNwAJbNbGKPFXCWuBvf9Ss623VQ5DA\"\n",
    "    )\n",
    "    \n",
    ")\n",
    "response = client.get_token_accounts_by_owner_json_parsed(\n",
    "    owner=pubkey,\n",
    "    opts=account_ops\n",
    ")"
   ]
  },
  {
   "cell_type": "code",
   "execution_count": 83,
   "metadata": {},
   "outputs": [
    {
     "data": {
      "text/html": [
       "<div><style>\n",
       ".dataframe > thead > tr,\n",
       ".dataframe > tbody > tr {\n",
       "  text-align: right;\n",
       "  white-space: pre-wrap;\n",
       "}\n",
       "</style>\n",
       "<small>shape: (330, 17)</small><table border=\"1\" class=\"dataframe\"><thead><tr><th>pubkey</th><th>lamports</th><th>program</th><th>mint</th><th>owner</th><th>isNative</th><th>state</th><th>tokenAmount</th><th>decimals</th><th>uiAmount</th><th>uiAmountString</th><th>space</th><th>owner_pubkey</th><th>executable</th><th>rent_epoch</th><th>symbol</th><th>name</th></tr><tr><td>str</td><td>i64</td><td>str</td><td>str</td><td>str</td><td>bool</td><td>str</td><td>str</td><td>i64</td><td>f64</td><td>str</td><td>i64</td><td>str</td><td>bool</td><td>u64</td><td>str</td><td>str</td></tr></thead><tbody><tr><td>&quot;3WYgKGMaUndUi7H36sMmY6jDcxThN1…</td><td>2039280</td><td>&quot;spl-token&quot;</td><td>&quot;35FYCTQFA1m18nJ3GgJ8jzd4HgnmZf…</td><td>&quot;3LkGTjNsF2zWc2ddBPHYyEJJZKqbdH…</td><td>false</td><td>&quot;initialized&quot;</td><td>&quot;69000000&quot;</td><td>6</td><td>69.0</td><td>&quot;69&quot;</td><td>165</td><td>&quot;TokenkegQfeZyiNwAJbNbGKPFXCWuB…</td><td>false</td><td>18446744073709551615</td><td>null</td><td>null</td></tr><tr><td>&quot;74Lb7TrKYmmYuDu23DRXrHCVrajGHF…</td><td>2039280</td><td>&quot;spl-token&quot;</td><td>&quot;4gHpM7xtQwoo2mpTyHJAT5bgMkT5mW…</td><td>&quot;3LkGTjNsF2zWc2ddBPHYyEJJZKqbdH…</td><td>false</td><td>&quot;initialized&quot;</td><td>&quot;5000000&quot;</td><td>4</td><td>500.0</td><td>&quot;500&quot;</td><td>165</td><td>&quot;TokenkegQfeZyiNwAJbNbGKPFXCWuB…</td><td>false</td><td>18446744073709551615</td><td>null</td><td>null</td></tr><tr><td>&quot;9AU8XmESb8apXFM27d36ngzUiwwcHi…</td><td>2039280</td><td>&quot;spl-token&quot;</td><td>&quot;EVAknb8Rc3GsZC4yz36C9qXDUJbJDt…</td><td>&quot;3LkGTjNsF2zWc2ddBPHYyEJJZKqbdH…</td><td>false</td><td>&quot;initialized&quot;</td><td>&quot;78333000000&quot;</td><td>6</td><td>78333.0</td><td>&quot;78333&quot;</td><td>165</td><td>&quot;TokenkegQfeZyiNwAJbNbGKPFXCWuB…</td><td>false</td><td>18446744073709551615</td><td>null</td><td>null</td></tr><tr><td>&quot;4MqbWh7bu4MaczvMNhYTaBVaZvhyaU…</td><td>2039280</td><td>&quot;spl-token&quot;</td><td>&quot;7ZqzGzTNg5tjK1CHTBdGFHyKjBtXdf…</td><td>&quot;3LkGTjNsF2zWc2ddBPHYyEJJZKqbdH…</td><td>false</td><td>&quot;initialized&quot;</td><td>&quot;47801312755&quot;</td><td>6</td><td>47801.312755</td><td>&quot;47801.312755&quot;</td><td>165</td><td>&quot;TokenkegQfeZyiNwAJbNbGKPFXCWuB…</td><td>false</td><td>18446744073709551615</td><td>null</td><td>null</td></tr><tr><td>&quot;HHCFFr7GJ7eFFGPCa5ZpavfYtWLUZs…</td><td>2039280</td><td>&quot;spl-token&quot;</td><td>&quot;28ejJfWvsvEYQadjDCHu9XWTNUo224…</td><td>&quot;3LkGTjNsF2zWc2ddBPHYyEJJZKqbdH…</td><td>false</td><td>&quot;initialized&quot;</td><td>&quot;0&quot;</td><td>9</td><td>0.0</td><td>&quot;0&quot;</td><td>165</td><td>&quot;TokenkegQfeZyiNwAJbNbGKPFXCWuB…</td><td>false</td><td>18446744073709551615</td><td>null</td><td>null</td></tr><tr><td>&hellip;</td><td>&hellip;</td><td>&hellip;</td><td>&hellip;</td><td>&hellip;</td><td>&hellip;</td><td>&hellip;</td><td>&hellip;</td><td>&hellip;</td><td>&hellip;</td><td>&hellip;</td><td>&hellip;</td><td>&hellip;</td><td>&hellip;</td><td>&hellip;</td><td>&hellip;</td><td>&hellip;</td></tr><tr><td>&quot;95oML6mnvdohxRVpBZp87KbcqCccRZ…</td><td>2039280</td><td>&quot;spl-token&quot;</td><td>&quot;3M2vepByfZTG6xUSmFidvSCFzHWFoV…</td><td>&quot;3LkGTjNsF2zWc2ddBPHYyEJJZKqbdH…</td><td>false</td><td>&quot;initialized&quot;</td><td>&quot;10000000&quot;</td><td>6</td><td>10.0</td><td>&quot;10&quot;</td><td>165</td><td>&quot;TokenkegQfeZyiNwAJbNbGKPFXCWuB…</td><td>false</td><td>18446744073709551615</td><td>null</td><td>null</td></tr><tr><td>&quot;76JuoBzkay4DyH5xGPzMriDwGPiJbw…</td><td>2039280</td><td>&quot;spl-token&quot;</td><td>&quot;HxBbHRcyQf69cFLox5ckGtxAKfzdgi…</td><td>&quot;3LkGTjNsF2zWc2ddBPHYyEJJZKqbdH…</td><td>false</td><td>&quot;initialized&quot;</td><td>&quot;353939499300&quot;</td><td>9</td><td>353.939499</td><td>&quot;353.9394993&quot;</td><td>165</td><td>&quot;TokenkegQfeZyiNwAJbNbGKPFXCWuB…</td><td>false</td><td>18446744073709551615</td><td>null</td><td>null</td></tr><tr><td>&quot;EbqW46Aa15Dde6xQ44txp3JhFV84Zq…</td><td>2039280</td><td>&quot;spl-token&quot;</td><td>&quot;BCP3tdCpDGyNzcgi8s2abF4EqVzjGQ…</td><td>&quot;3LkGTjNsF2zWc2ddBPHYyEJJZKqbdH…</td><td>false</td><td>&quot;initialized&quot;</td><td>&quot;10000000&quot;</td><td>6</td><td>10.0</td><td>&quot;10&quot;</td><td>165</td><td>&quot;TokenkegQfeZyiNwAJbNbGKPFXCWuB…</td><td>false</td><td>18446744073709551615</td><td>null</td><td>null</td></tr><tr><td>&quot;AiNE1bsSgeXeiNWLNF1aEWNPRnWmNE…</td><td>2039280</td><td>&quot;spl-token&quot;</td><td>&quot;9Rg4MFkPEiaVioWyCWouNMa1dotg5R…</td><td>&quot;3LkGTjNsF2zWc2ddBPHYyEJJZKqbdH…</td><td>false</td><td>&quot;initialized&quot;</td><td>&quot;9110000000000&quot;</td><td>9</td><td>9110.0</td><td>&quot;9110&quot;</td><td>165</td><td>&quot;TokenkegQfeZyiNwAJbNbGKPFXCWuB…</td><td>false</td><td>18446744073709551615</td><td>null</td><td>null</td></tr><tr><td>&quot;E3hRCJHqDqgdP7pqEurNdkjdn2HAQd…</td><td>2039280</td><td>&quot;spl-token&quot;</td><td>&quot;DsJN7XBpVqFsx6i8rV7E38Seg393m8…</td><td>&quot;3LkGTjNsF2zWc2ddBPHYyEJJZKqbdH…</td><td>false</td><td>&quot;initialized&quot;</td><td>&quot;222000000000&quot;</td><td>9</td><td>222.0</td><td>&quot;222&quot;</td><td>165</td><td>&quot;TokenkegQfeZyiNwAJbNbGKPFXCWuB…</td><td>false</td><td>18446744073709551615</td><td>null</td><td>null</td></tr></tbody></table></div>"
      ],
      "text/plain": [
       "shape: (330, 17)\n",
       "┌──────────────┬──────────┬───────────┬─────────────┬───┬────────────┬─────────────┬────────┬──────┐\n",
       "│ pubkey       ┆ lamports ┆ program   ┆ mint        ┆ … ┆ executable ┆ rent_epoch  ┆ symbol ┆ name │\n",
       "│ ---          ┆ ---      ┆ ---       ┆ ---         ┆   ┆ ---        ┆ ---         ┆ ---    ┆ ---  │\n",
       "│ str          ┆ i64      ┆ str       ┆ str         ┆   ┆ bool       ┆ u64         ┆ str    ┆ str  │\n",
       "╞══════════════╪══════════╪═══════════╪═════════════╪═══╪════════════╪═════════════╪════════╪══════╡\n",
       "│ 3WYgKGMaUndU ┆ 2039280  ┆ spl-token ┆ 35FYCTQFA1m ┆ … ┆ false      ┆ 18446744073 ┆ null   ┆ null │\n",
       "│ i7H36sMmY6jD ┆          ┆           ┆ 18nJ3GgJ8jz ┆   ┆            ┆ 709551615   ┆        ┆      │\n",
       "│ cxThN1…      ┆          ┆           ┆ d4HgnmZf…   ┆   ┆            ┆             ┆        ┆      │\n",
       "│ 74Lb7TrKYmmY ┆ 2039280  ┆ spl-token ┆ 4gHpM7xtQwo ┆ … ┆ false      ┆ 18446744073 ┆ null   ┆ null │\n",
       "│ uDu23DRXrHCV ┆          ┆           ┆ o2mpTyHJAT5 ┆   ┆            ┆ 709551615   ┆        ┆      │\n",
       "│ rajGHF…      ┆          ┆           ┆ bgMkT5mW…   ┆   ┆            ┆             ┆        ┆      │\n",
       "│ 9AU8XmESb8ap ┆ 2039280  ┆ spl-token ┆ EVAknb8Rc3G ┆ … ┆ false      ┆ 18446744073 ┆ null   ┆ null │\n",
       "│ XFM27d36ngzU ┆          ┆           ┆ sZC4yz36C9q ┆   ┆            ┆ 709551615   ┆        ┆      │\n",
       "│ iwwcHi…      ┆          ┆           ┆ XDUJbJDt…   ┆   ┆            ┆             ┆        ┆      │\n",
       "│ 4MqbWh7bu4Ma ┆ 2039280  ┆ spl-token ┆ 7ZqzGzTNg5t ┆ … ┆ false      ┆ 18446744073 ┆ null   ┆ null │\n",
       "│ czvMNhYTaBVa ┆          ┆           ┆ jK1CHTBdGFH ┆   ┆            ┆ 709551615   ┆        ┆      │\n",
       "│ ZvhyaU…      ┆          ┆           ┆ yKjBtXdf…   ┆   ┆            ┆             ┆        ┆      │\n",
       "│ HHCFFr7GJ7eF ┆ 2039280  ┆ spl-token ┆ 28ejJfWvsvE ┆ … ┆ false      ┆ 18446744073 ┆ null   ┆ null │\n",
       "│ FGPCa5ZpavfY ┆          ┆           ┆ YQadjDCHu9X ┆   ┆            ┆ 709551615   ┆        ┆      │\n",
       "│ tWLUZs…      ┆          ┆           ┆ WTNUo224…   ┆   ┆            ┆             ┆        ┆      │\n",
       "│ …            ┆ …        ┆ …         ┆ …           ┆ … ┆ …          ┆ …           ┆ …      ┆ …    │\n",
       "│ 95oML6mnvdoh ┆ 2039280  ┆ spl-token ┆ 3M2vepByfZT ┆ … ┆ false      ┆ 18446744073 ┆ null   ┆ null │\n",
       "│ xRVpBZp87Kbc ┆          ┆           ┆ G6xUSmFidvS ┆   ┆            ┆ 709551615   ┆        ┆      │\n",
       "│ qCccRZ…      ┆          ┆           ┆ CFzHWFoV…   ┆   ┆            ┆             ┆        ┆      │\n",
       "│ 76JuoBzkay4D ┆ 2039280  ┆ spl-token ┆ HxBbHRcyQf6 ┆ … ┆ false      ┆ 18446744073 ┆ null   ┆ null │\n",
       "│ yH5xGPzMriDw ┆          ┆           ┆ 9cFLox5ckGt ┆   ┆            ┆ 709551615   ┆        ┆      │\n",
       "│ GPiJbw…      ┆          ┆           ┆ xAKfzdgi…   ┆   ┆            ┆             ┆        ┆      │\n",
       "│ EbqW46Aa15Dd ┆ 2039280  ┆ spl-token ┆ BCP3tdCpDGy ┆ … ┆ false      ┆ 18446744073 ┆ null   ┆ null │\n",
       "│ e6xQ44txp3Jh ┆          ┆           ┆ Nzcgi8s2abF ┆   ┆            ┆ 709551615   ┆        ┆      │\n",
       "│ FV84Zq…      ┆          ┆           ┆ 4EqVzjGQ…   ┆   ┆            ┆             ┆        ┆      │\n",
       "│ AiNE1bsSgeXe ┆ 2039280  ┆ spl-token ┆ 9Rg4MFkPEia ┆ … ┆ false      ┆ 18446744073 ┆ null   ┆ null │\n",
       "│ iNWLNF1aEWNP ┆          ┆           ┆ VioWyCWouNM ┆   ┆            ┆ 709551615   ┆        ┆      │\n",
       "│ RnWmNE…      ┆          ┆           ┆ a1dotg5R…   ┆   ┆            ┆             ┆        ┆      │\n",
       "│ E3hRCJHqDqgd ┆ 2039280  ┆ spl-token ┆ DsJN7XBpVqF ┆ … ┆ false      ┆ 18446744073 ┆ null   ┆ null │\n",
       "│ P7pqEurNdkjd ┆          ┆           ┆ sx6i8rV7E38 ┆   ┆            ┆ 709551615   ┆        ┆      │\n",
       "│ n2HAQd…      ┆          ┆           ┆ Seg393m8…   ┆   ┆            ┆             ┆        ┆      │\n",
       "└──────────────┴──────────┴───────────┴─────────────┴───┴────────────┴─────────────┴────────┴──────┘"
      ]
     },
     "execution_count": 83,
     "metadata": {},
     "output_type": "execute_result"
    }
   ],
   "source": [
    "parsed_data = []\n",
    "for entry in response.value:\n",
    "    account = entry.account\n",
    "    parsed_info = account.data.parsed['info']\n",
    "    parsed_data.append({\n",
    "        \"pubkey\": str(entry.pubkey),\n",
    "        \"lamports\": account.lamports,\n",
    "        \"program\": account.data.program,\n",
    "        \"mint\": parsed_info[\"mint\"],\n",
    "        \"owner\": parsed_info[\"owner\"],\n",
    "        \"isNative\": parsed_info[\"isNative\"],\n",
    "        \"state\": parsed_info[\"state\"],\n",
    "        \"tokenAmount\": parsed_info[\"tokenAmount\"][\"amount\"],\n",
    "        \"decimals\": parsed_info[\"tokenAmount\"][\"decimals\"],\n",
    "        \"uiAmount\": parsed_info[\"tokenAmount\"][\"uiAmount\"],\n",
    "        \"uiAmountString\": parsed_info[\"tokenAmount\"][\"uiAmountString\"],\n",
    "        \"space\": account.data.space,\n",
    "        \"owner_pubkey\": str(account.owner),\n",
    "        \"executable\": account.executable,\n",
    "        \"rent_epoch\": account.rent_epoch,\n",
    "    })\n",
    "df = pl.DataFrame(parsed_data)\n",
    "df = df.join(\n",
    "    df_token_list.select([\"address\", \"symbol\", \"name\"]),\n",
    "    left_on=\"mint\",\n",
    "    right_on=\"address\",\n",
    "    how=\"left\"\n",
    ")\n",
    "df"
   ]
  },
  {
   "cell_type": "code",
   "execution_count": 84,
   "metadata": {},
   "outputs": [
    {
     "ename": "SolanaRpcException",
     "evalue": "",
     "output_type": "error",
     "traceback": [
      "\u001b[1;31m---------------------------------------------------------------------------\u001b[0m",
      "\u001b[1;31mHTTPStatusError\u001b[0m                           Traceback (most recent call last)",
      "File \u001b[1;32m~\\AppData\\Roaming\\Python\\Python312\\site-packages\\solana\\exceptions.py:45\u001b[0m, in \u001b[0;36m_untyped_handle_exceptions.<locals>.func_decorator.<locals>.argument_decorator\u001b[1;34m(*args, **kwargs)\u001b[0m\n\u001b[0;32m     44\u001b[0m \u001b[38;5;28;01mtry\u001b[39;00m:\n\u001b[1;32m---> 45\u001b[0m     \u001b[38;5;28;01mreturn\u001b[39;00m \u001b[43mfunc\u001b[49m\u001b[43m(\u001b[49m\u001b[38;5;241;43m*\u001b[39;49m\u001b[43margs\u001b[49m\u001b[43m,\u001b[49m\u001b[43m \u001b[49m\u001b[38;5;241;43m*\u001b[39;49m\u001b[38;5;241;43m*\u001b[39;49m\u001b[43mkwargs\u001b[49m\u001b[43m)\u001b[49m\n\u001b[0;32m     46\u001b[0m \u001b[38;5;28;01mexcept\u001b[39;00m exception_types_caught \u001b[38;5;28;01mas\u001b[39;00m exc:\n",
      "File \u001b[1;32m~\\AppData\\Roaming\\Python\\Python312\\site-packages\\solana\\rpc\\providers\\http.py:48\u001b[0m, in \u001b[0;36mHTTPProvider.make_request\u001b[1;34m(self, body, parser)\u001b[0m\n\u001b[0;32m     47\u001b[0m \u001b[38;5;250m\u001b[39m\u001b[38;5;124;03m\"\"\"Make an HTTP request to an http rpc endpoint.\"\"\"\u001b[39;00m\n\u001b[1;32m---> 48\u001b[0m raw \u001b[38;5;241m=\u001b[39m \u001b[38;5;28;43mself\u001b[39;49m\u001b[38;5;241;43m.\u001b[39;49m\u001b[43mmake_request_unparsed\u001b[49m\u001b[43m(\u001b[49m\u001b[43mbody\u001b[49m\u001b[43m)\u001b[49m\n\u001b[0;32m     49\u001b[0m \u001b[38;5;28;01mreturn\u001b[39;00m _parse_raw(raw, parser\u001b[38;5;241m=\u001b[39mparser)\n",
      "File \u001b[1;32m~\\AppData\\Roaming\\Python\\Python312\\site-packages\\solana\\rpc\\providers\\http.py:55\u001b[0m, in \u001b[0;36mHTTPProvider.make_request_unparsed\u001b[1;34m(self, body)\u001b[0m\n\u001b[0;32m     54\u001b[0m raw_response \u001b[38;5;241m=\u001b[39m httpx\u001b[38;5;241m.\u001b[39mpost(\u001b[38;5;241m*\u001b[39m\u001b[38;5;241m*\u001b[39mrequest_kwargs)\n\u001b[1;32m---> 55\u001b[0m \u001b[38;5;28;01mreturn\u001b[39;00m \u001b[43m_after_request_unparsed\u001b[49m\u001b[43m(\u001b[49m\u001b[43mraw_response\u001b[49m\u001b[43m)\u001b[49m\n",
      "File \u001b[1;32m~\\AppData\\Roaming\\Python\\Python312\\site-packages\\solana\\rpc\\providers\\core.py:137\u001b[0m, in \u001b[0;36m_after_request_unparsed\u001b[1;34m(raw_response)\u001b[0m\n\u001b[0;32m    136\u001b[0m \u001b[38;5;28;01mdef\u001b[39;00m \u001b[38;5;21m_after_request_unparsed\u001b[39m(raw_response: httpx\u001b[38;5;241m.\u001b[39mResponse) \u001b[38;5;241m-\u001b[39m\u001b[38;5;241m>\u001b[39m \u001b[38;5;28mstr\u001b[39m:\n\u001b[1;32m--> 137\u001b[0m     \u001b[43mraw_response\u001b[49m\u001b[38;5;241;43m.\u001b[39;49m\u001b[43mraise_for_status\u001b[49m\u001b[43m(\u001b[49m\u001b[43m)\u001b[49m\n\u001b[0;32m    138\u001b[0m     \u001b[38;5;28;01mreturn\u001b[39;00m raw_response\u001b[38;5;241m.\u001b[39mtext\n",
      "File \u001b[1;32m~\\AppData\\Roaming\\Python\\Python312\\site-packages\\httpx\\_models.py:763\u001b[0m, in \u001b[0;36mResponse.raise_for_status\u001b[1;34m(self)\u001b[0m\n\u001b[0;32m    762\u001b[0m message \u001b[38;5;241m=\u001b[39m message\u001b[38;5;241m.\u001b[39mformat(\u001b[38;5;28mself\u001b[39m, error_type\u001b[38;5;241m=\u001b[39merror_type)\n\u001b[1;32m--> 763\u001b[0m \u001b[38;5;28;01mraise\u001b[39;00m HTTPStatusError(message, request\u001b[38;5;241m=\u001b[39mrequest, response\u001b[38;5;241m=\u001b[39m\u001b[38;5;28mself\u001b[39m)\n",
      "\u001b[1;31mHTTPStatusError\u001b[0m: Client error '429 Too Many Requests' for url 'wss://solana-mainnet.core.chainstack.com/2fa69914c087050cc7b9887511cd7d35'\nFor more information check: https://developer.mozilla.org/en-US/docs/Web/HTTP/Status/429",
      "\nThe above exception was the direct cause of the following exception:\n",
      "\u001b[1;31mSolanaRpcException\u001b[0m                        Traceback (most recent call last)",
      "Cell \u001b[1;32mIn[84], line 4\u001b[0m\n\u001b[0;32m      2\u001b[0m before \u001b[38;5;241m=\u001b[39m \u001b[38;5;28;01mNone\u001b[39;00m\n\u001b[0;32m      3\u001b[0m \u001b[38;5;28;01mwhile\u001b[39;00m \u001b[38;5;28;01mTrue\u001b[39;00m:\n\u001b[1;32m----> 4\u001b[0m     response \u001b[38;5;241m=\u001b[39m \u001b[43mclient\u001b[49m\u001b[38;5;241;43m.\u001b[39;49m\u001b[43mget_signatures_for_address\u001b[49m\u001b[43m(\u001b[49m\u001b[43mpubkey\u001b[49m\u001b[43m,\u001b[49m\u001b[43m \u001b[49m\u001b[43mbefore\u001b[49m\u001b[38;5;241;43m=\u001b[39;49m\u001b[43mbefore\u001b[49m\u001b[43m)\u001b[49m\n\u001b[0;32m      5\u001b[0m     \u001b[38;5;28;01mif\u001b[39;00m \u001b[38;5;28mlen\u001b[39m(response\u001b[38;5;241m.\u001b[39mvalue) \u001b[38;5;241m==\u001b[39m \u001b[38;5;241m0\u001b[39m:\n\u001b[0;32m      6\u001b[0m         \u001b[38;5;28;01mbreak\u001b[39;00m\n",
      "File \u001b[1;32m~\\AppData\\Roaming\\Python\\Python312\\site-packages\\solana\\rpc\\api.py:348\u001b[0m, in \u001b[0;36mClient.get_signatures_for_address\u001b[1;34m(self, account, before, until, limit, commitment)\u001b[0m\n\u001b[0;32m    325\u001b[0m \u001b[38;5;250m\u001b[39m\u001b[38;5;124;03m\"\"\"Returns confirmed signatures for transactions involving an address.\u001b[39;00m\n\u001b[0;32m    326\u001b[0m \n\u001b[0;32m    327\u001b[0m \u001b[38;5;124;03mSignatures are returned backwards in time from the provided signature or\u001b[39;00m\n\u001b[1;32m   (...)\u001b[0m\n\u001b[0;32m    345\u001b[0m \u001b[38;5;124;03m    )\u001b[39;00m\n\u001b[0;32m    346\u001b[0m \u001b[38;5;124;03m\"\"\"\u001b[39;00m\n\u001b[0;32m    347\u001b[0m body \u001b[38;5;241m=\u001b[39m \u001b[38;5;28mself\u001b[39m\u001b[38;5;241m.\u001b[39m_get_signatures_for_address_body(account, before, until, limit, commitment)\n\u001b[1;32m--> 348\u001b[0m \u001b[38;5;28;01mreturn\u001b[39;00m \u001b[38;5;28;43mself\u001b[39;49m\u001b[38;5;241;43m.\u001b[39;49m\u001b[43m_provider\u001b[49m\u001b[38;5;241;43m.\u001b[39;49m\u001b[43mmake_request\u001b[49m\u001b[43m(\u001b[49m\u001b[43mbody\u001b[49m\u001b[43m,\u001b[49m\u001b[43m \u001b[49m\u001b[43mGetSignaturesForAddressResp\u001b[49m\u001b[43m)\u001b[49m\n",
      "File \u001b[1;32m~\\AppData\\Roaming\\Python\\Python312\\site-packages\\solana\\exceptions.py:47\u001b[0m, in \u001b[0;36m_untyped_handle_exceptions.<locals>.func_decorator.<locals>.argument_decorator\u001b[1;34m(*args, **kwargs)\u001b[0m\n\u001b[0;32m     45\u001b[0m     \u001b[38;5;28;01mreturn\u001b[39;00m func(\u001b[38;5;241m*\u001b[39margs, \u001b[38;5;241m*\u001b[39m\u001b[38;5;241m*\u001b[39mkwargs)\n\u001b[0;32m     46\u001b[0m \u001b[38;5;28;01mexcept\u001b[39;00m exception_types_caught \u001b[38;5;28;01mas\u001b[39;00m exc:\n\u001b[1;32m---> 47\u001b[0m     \u001b[38;5;28;01mraise\u001b[39;00m internal_exception_cls(exc, func, \u001b[38;5;241m*\u001b[39margs, \u001b[38;5;241m*\u001b[39m\u001b[38;5;241m*\u001b[39mkwargs) \u001b[38;5;28;01mfrom\u001b[39;00m \u001b[38;5;21;01mexc\u001b[39;00m\n",
      "\u001b[1;31mSolanaRpcException\u001b[0m: "
     ]
    }
   ],
   "source": [
    "transaction_signatures = []\n",
    "before = None\n",
    "while True:\n",
    "    response = client.get_signatures_for_address(pubkey, before=before)\n",
    "    if len(response.value) == 0:\n",
    "        break\n",
    "    transaction_signatures.extend(response.value)\n",
    "    before = response.value[-1].signature"
   ]
  },
  {
   "cell_type": "code",
   "execution_count": 85,
   "metadata": {},
   "outputs": [
    {
     "data": {
      "text/plain": [
       "[Signature(\n",
       "     3CeFzmKDausZgWvJX5yxGjRGv54MvYF1EGHbwZZkNnvN6WYL7t871TmJ6e7zdrXkTswQZKYVPchPouC69DgbdhL1,\n",
       " ),\n",
       " Signature(\n",
       "     43eZD6ZqNH2BXNfzHvZJ4EwFFoZDmur5K59bkfk5SVu1DmNbr3xEkf4WPSHPwq67jebF6jZ2EvUmBCUrSnxvL8tR,\n",
       " )]"
      ]
     },
     "execution_count": 85,
     "metadata": {},
     "output_type": "execute_result"
    }
   ],
   "source": [
    "signatures = [\n",
    "    t.signature for t in transaction_signatures\n",
    "    if t.err is None\n",
    "]\n",
    "signatures[0:2]"
   ]
  },
  {
   "cell_type": "code",
   "execution_count": null,
   "metadata": {},
   "outputs": [],
   "source": [
    "from atlas_sol import AtlasSol\n",
    "from tqdm import tqdm\n",
    "CHAINSTAKE_SOLONA_HTTPS = \"https://solana-mainnet.core.chainstack.com/2fa69914c087050cc7b9887511cd7d35\"\n",
    "CHAINSTAKE_SOLONA_WS = \"wss://solana-mainnet.core.chainstack.com/2fa69914c087050cc7b9887511cd7d35\"\n",
    "asol = AtlasSol(\n",
    "    url=\"https://api.mainnet-beta.solana.com\"\n",
    ")\n",
    "tx = asol.getTransaction(signatures)"
   ]
  },
  {
   "cell_type": "code",
   "execution_count": 90,
   "metadata": {},
   "outputs": [
    {
     "data": {
      "text/plain": [
       "{'owner': '3musSxbKab3GgXNhKpmzspZhvq1BAVgmEJ7Yz5HBdxmB',\n",
       " 'account': 'kfM4qbiwE4xN1i7QcS8DFtyh9V3wRdrQrRCHXoCbpvZ',\n",
       " 'mint': 'A8C3xuqscfmyLrte3VmTqrAq8kgMASius9AFNANwpump',\n",
       " 'wallet_prebalance': 371805.731861,\n",
       " 'wallet_postbalance': 372695.840284,\n",
       " 'owner_cp': '3LkGTjNsF2zWc2ddBPHYyEJJZKqbdHJDgfjztxnjwL5R',\n",
       " 'account_cp': '37BkVCjp7N4ni4uBde4731VLzTKKQVLPHsefP5ZXs94t',\n",
       " 'wallet_prebalance_cp': 12652.589319,\n",
       " 'wallet_postbalance_cp': 11762.480896,\n",
       " 'mint_cp': 'So11111111111111111111111111111111111111112',\n",
       " 'wallet_prebalance_sold': 489.85567842,\n",
       " 'wallet_postbalance_sold': 488.160230902,\n",
       " 'account_sold': 'BUmsGx7R5dhbmG6P7aVeZUqwob99xcetAbZDsFz5CkAo'}"
      ]
     },
     "execution_count": 90,
     "metadata": {},
     "output_type": "execute_result"
    }
   ],
   "source": [
    "tx.__dict__"
   ]
  },
  {
   "cell_type": "code",
   "execution_count": 159,
   "metadata": {},
   "outputs": [
    {
     "name": "stderr",
     "output_type": "stream",
     "text": [
      "Unclosed client session\n",
      "client_session: <aiohttp.client.ClientSession object at 0x0000023C7ECD6C90>\n",
      "Unclosed client session\n",
      "client_session: <aiohttp.client.ClientSession object at 0x0000023C7FB18BC0>\n",
      "Unclosed client session\n",
      "client_session: <aiohttp.client.ClientSession object at 0x0000023C7F4588C0>\n",
      "Unclosed client session\n",
      "client_session: <aiohttp.client.ClientSession object at 0x0000023C7F4587A0>\n",
      "Unclosed client session\n",
      "client_session: <aiohttp.client.ClientSession object at 0x0000023C6E003B60>\n",
      "Unclosed client session\n",
      "client_session: <aiohttp.client.ClientSession object at 0x0000023C6E003E60>\n",
      "Unclosed client session\n",
      "client_session: <aiohttp.client.ClientSession object at 0x0000023C7F364DA0>\n"
     ]
    },
    {
     "data": {
      "text/plain": [
       "592"
      ]
     },
     "execution_count": 159,
     "metadata": {},
     "output_type": "execute_result"
    }
   ],
   "source": [
    "from pythclient.pythclient import PythClient\n",
    "from pythclient.pythaccounts import PythPriceAccount, PythPriceStatus\n",
    "from pythclient.solana import SolanaClient, SolanaPublicKey, PYTHNET_HTTP_ENDPOINT, PYTHNET_WS_ENDPOINT\n",
    "from solana.rpc.api import Client  # Using the synchronous client\n",
    "import polars as pl  # Assuming polars for DataFrame handling\n",
    "from pythclient.utils import get_key\n",
    "\n",
    "solana_network=\"devnet\"\n",
    "use_program = False\n",
    "v2_first_mapping_account_key = get_key(\"pythnet\", \"mapping\")\n",
    "v2_program_key = get_key(\"pythnet\", \"program\")\n",
    "pyth_client = PythClient(\n",
    "    first_mapping_account_key=v2_first_mapping_account_key,\n",
    "    program_key=v2_program_key if use_program else None,\n",
    "    solana_endpoint=PYTHNET_HTTP_ENDPOINT, # replace with the relevant cluster endpoints\n",
    "    solana_ws_endpoint=PYTHNET_WS_ENDPOINT # replace with the relevant cluster endpoints\n",
    ")\n",
    "await pyth_client.refresh_all_prices()\n",
    "products = await pyth_client.get_products()\n",
    "len(products)"
   ]
  },
  {
   "cell_type": "code",
   "execution_count": 163,
   "metadata": {},
   "outputs": [
    {
     "name": "stdout",
     "output_type": "stream",
     "text": [
      "PythPriceAccount Crypto.ALGO/USD PythPriceType.PRICE (HqFyq1wh1xKvL7KDqqT7NJeSPdAqsDqnmBisUC2XdXAX)\n"
     ]
    }
   ],
   "source": [
    "prices = await products[3].get_prices()\n",
    "for _, pr in prices.items():\n",
    "    print(pr)"
   ]
  },
  {
   "cell_type": "code",
   "execution_count": 164,
   "metadata": {},
   "outputs": [
    {
     "data": {
      "text/plain": [
       "{'key': HqFyq1wh1xKvL7KDqqT7NJeSPdAqsDqnmBisUC2XdXAX,\n",
       " 'solana': <pythclient.solana.SolanaClient at 0x23c6e238590>,\n",
       " 'slot': 182831082,\n",
       " 'lamports': 110524800000,\n",
       " 'product': PythProductAccount Crypto.ALGO/USD (4JCKSFQXT1Nv89fMX5reV7LXJUUxzb6rUAqMiC8oS9vf),\n",
       " 'price_type': <PythPriceType.PRICE: 1>,\n",
       " 'exponent': -8,\n",
       " 'num_components': 31,\n",
       " 'last_slot': 182831082,\n",
       " 'valid_slot': 182831081,\n",
       " 'product_account_key': 4JCKSFQXT1Nv89fMX5reV7LXJUUxzb6rUAqMiC8oS9vf,\n",
       " 'next_price_account_key': None,\n",
       " 'aggregate_price_info': PythPriceInfo status PythPriceStatus.TRADING price 0.50435733,\n",
       " 'price_components': [PythPriceComponent(publisher_key=7YQg8Tz9KHKsg7yHiAFRBsDkLoKvZbMXt7VbW44F7QM, last_aggregate_price_info=PythPriceInfo status PythPriceStatus.TRADING price 0.5045135000000001, latest_price_info=PythPriceInfo status PythPriceStatus.TRADING price 0.5045135000000001, exponent=-8),\n",
       "  PythPriceComponent(publisher_key=JTmFx5zX9mM94itfk2nQcJnQQDPjcv4UPD7SYj6xDCV, last_aggregate_price_info=PythPriceInfo status PythPriceStatus.TRADING price 0.50436214, latest_price_info=PythPriceInfo status PythPriceStatus.TRADING price 0.50436214, exponent=-8),\n",
       "  PythPriceComponent(publisher_key=UZZ1sH1jvTV5QPHtRcsA6inURuSoD5UFT6a2RBTNvXr, last_aggregate_price_info=PythPriceInfo status PythPriceStatus.TRADING price 0.50435733, latest_price_info=PythPriceInfo status PythPriceStatus.TRADING price 0.50435733, exponent=-8),\n",
       "  PythPriceComponent(publisher_key=niC3mUrbXngb546BdCVi7FFDZyEtiDiSAFXGtH2vicW, last_aggregate_price_info=PythPriceInfo status PythPriceStatus.TRADING price 0.5047716, latest_price_info=PythPriceInfo status PythPriceStatus.TRADING price 0.5047716, exponent=-8),\n",
       "  PythPriceComponent(publisher_key=2ehFijXkacypZL4jdfPm38BJnMKsN2nMHm8xekbujjdx, last_aggregate_price_info=PythPriceInfo status PythPriceStatus.TRADING price 0.50438293, latest_price_info=PythPriceInfo status PythPriceStatus.TRADING price 0.50438293, exponent=-8),\n",
       "  PythPriceComponent(publisher_key=3ZoSb6GSxzhkhy6muoRvPukUCzHnN7dwVhXNda2WDsDX, last_aggregate_price_info=PythPriceInfo status PythPriceStatus.TRADING price 0.50425508, latest_price_info=PythPriceInfo status PythPriceStatus.TRADING price 0.50425508, exponent=-8),\n",
       "  PythPriceComponent(publisher_key=4Y3NV1TJFPdkKSPGZJqBZXSEygLtDgFKueco8324mxfV, last_aggregate_price_info=PythPriceInfo status PythPriceStatus.TRADING price 0.50436254, latest_price_info=PythPriceInfo status PythPriceStatus.TRADING price 0.50436254, exponent=-8),\n",
       "  PythPriceComponent(publisher_key=4dxDjABzLZQauxReFWpBdXZdgCi9P4W47w1xfLHrSzM5, last_aggregate_price_info=PythPriceInfo status PythPriceStatus.TRADING price 0.50431508, latest_price_info=PythPriceInfo status PythPriceStatus.TRADING price 0.50431508, exponent=-8),\n",
       "  PythPriceComponent(publisher_key=5YXnWX6Mmd8hp7fCpAB3wQUrHt6WtjJrA5QjmBuySsDP, last_aggregate_price_info=PythPriceInfo status PythPriceStatus.TRADING price 0.5044020300000001, latest_price_info=PythPriceInfo status PythPriceStatus.TRADING price 0.5044020300000001, exponent=-8),\n",
       "  PythPriceComponent(publisher_key=5ZLaVaVJdvdqGmvnS4jYgJ7k54Kdev7f1q5LDytjwqJ6, last_aggregate_price_info=PythPriceInfo status PythPriceStatus.TRADING price 0.5053245000000001, latest_price_info=PythPriceInfo status PythPriceStatus.TRADING price 0.5053245000000001, exponent=-8),\n",
       "  PythPriceComponent(publisher_key=5gUgQX5XLjXqvQup4WRLqBdAXpx8zyxtXZkWS9qHsziD, last_aggregate_price_info=PythPriceInfo status PythPriceStatus.TRADING price 0.50371, latest_price_info=PythPriceInfo status PythPriceStatus.TRADING price 0.50371, exponent=-8),\n",
       "  PythPriceComponent(publisher_key=5giNPEh9PytXcnKNgufofmQPdS4jHoySgFpiu8f7QxP4, last_aggregate_price_info=PythPriceInfo status PythPriceStatus.TRADING price 0.50416182, latest_price_info=PythPriceInfo status PythPriceStatus.TRADING price 0.50416182, exponent=-8),\n",
       "  PythPriceComponent(publisher_key=6DNocjFJjocPLZnKBZyEJAC5o2QaiT5Mx8AkphfxDm5i, last_aggregate_price_info=PythPriceInfo status PythPriceStatus.TRADING price 0.50443728, latest_price_info=PythPriceInfo status PythPriceStatus.TRADING price 0.50443728, exponent=-8),\n",
       "  PythPriceComponent(publisher_key=6GNiLfQpsKD2XXUGu5pTXrhufxdZWMFTfw5WoT9xN3G6, last_aggregate_price_info=PythPriceInfo status PythPriceStatus.TRADING price 0.50435412, latest_price_info=PythPriceInfo status PythPriceStatus.TRADING price 0.50435412, exponent=-8),\n",
       "  PythPriceComponent(publisher_key=9MsBpd9HiHeov4wbJbguopDWhAkh4qzXvPcrqeqm5Usd, last_aggregate_price_info=PythPriceInfo status PythPriceStatus.TRADING price 0.50377457, latest_price_info=PythPriceInfo status PythPriceStatus.TRADING price 0.50377457, exponent=-8),\n",
       "  PythPriceComponent(publisher_key=9N3GhV8oR8rVNB4zBSFwKk8vKtyxaCD8XBKsSPSDGtkC, last_aggregate_price_info=PythPriceInfo status PythPriceStatus.TRADING price 0.50444152, latest_price_info=PythPriceInfo status PythPriceStatus.TRADING price 0.50444152, exponent=-8),\n",
       "  PythPriceComponent(publisher_key=9Shm3gXvtFpm68iUzmNtMvWBsZw62TJhVQykSqgwbpkz, last_aggregate_price_info=PythPriceInfo status PythPriceStatus.TRADING price 0.50400289, latest_price_info=PythPriceInfo status PythPriceStatus.TRADING price 0.50400289, exponent=-8),\n",
       "  PythPriceComponent(publisher_key=ANaHtYzg9kKx9JZbiivAGgqvdX5fGNrGx2HTA9fkSSWX, last_aggregate_price_info=PythPriceInfo status PythPriceStatus.TRADING price 0.50439397, latest_price_info=PythPriceInfo status PythPriceStatus.TRADING price 0.50439397, exponent=-8),\n",
       "  PythPriceComponent(publisher_key=AyppMMH42nZVQrcxTP2zk9Psmy9quS6oF1yF4xVtjyL5, last_aggregate_price_info=PythPriceInfo status PythPriceStatus.TRADING price 0.50465425, latest_price_info=PythPriceInfo status PythPriceStatus.TRADING price 0.50465425, exponent=-8),\n",
       "  PythPriceComponent(publisher_key=B1HARXoPkKxEQ3U3ce7VDNvSesLP73JMm7XX5xZULTk7, last_aggregate_price_info=PythPriceInfo status PythPriceStatus.TRADING price 0.50372196, latest_price_info=PythPriceInfo status PythPriceStatus.TRADING price 0.50372196, exponent=-8),\n",
       "  PythPriceComponent(publisher_key=CQbGEAf2VCKmArhtnNKw1LoqQVZ4k36DEBZrrB8G8DDt, last_aggregate_price_info=PythPriceInfo status PythPriceStatus.TRADING price 0.50436266, latest_price_info=PythPriceInfo status PythPriceStatus.TRADING price 0.50436266, exponent=-8),\n",
       "  PythPriceComponent(publisher_key=CfVkYofcLC1iVBcYFzgdYPeiX25SVRmWvBQVHorP1A3y, last_aggregate_price_info=PythPriceInfo status PythPriceStatus.TRADING price 0.50430065, latest_price_info=PythPriceInfo status PythPriceStatus.TRADING price 0.50430065, exponent=-8),\n",
       "  PythPriceComponent(publisher_key=D68ZFycNR6H4A79puYfZpE1j8LZQeP9SXTukF3dSUby4, last_aggregate_price_info=PythPriceInfo status PythPriceStatus.TRADING price 0.50469657, latest_price_info=PythPriceInfo status PythPriceStatus.TRADING price 0.50469657, exponent=-8),\n",
       "  PythPriceComponent(publisher_key=DTimbkrssEMaQEPiLC5SmbverSbcEQXJsN7GGxYFfdgo, last_aggregate_price_info=PythPriceInfo status PythPriceStatus.TRADING price 0.50389872, latest_price_info=PythPriceInfo status PythPriceStatus.TRADING price 0.50389872, exponent=-8),\n",
       "  PythPriceComponent(publisher_key=De2H9tvARn6ybWzhXoqxmS5dkNjuRs88tA46ADPpDvTc, last_aggregate_price_info=PythPriceInfo status PythPriceStatus.TRADING price 0.50426443, latest_price_info=PythPriceInfo status PythPriceStatus.TRADING price 0.50426443, exponent=-8),\n",
       "  PythPriceComponent(publisher_key=DgAK7fPveidN72LCwCF4QjFcYHchBZbtZnjEAtgU1bMX, last_aggregate_price_info=PythPriceInfo status PythPriceStatus.TRADING price 0.50423057, latest_price_info=PythPriceInfo status PythPriceStatus.TRADING price 0.50423057, exponent=-8),\n",
       "  PythPriceComponent(publisher_key=FBpNUB6YkYSoDhaSdyPnU8966Kp2FPTp2rGKaqXK1zwR, last_aggregate_price_info=PythPriceInfo status PythPriceStatus.TRADING price 0.50414467, latest_price_info=PythPriceInfo status PythPriceStatus.TRADING price 0.50414467, exponent=-8),\n",
       "  PythPriceComponent(publisher_key=FMBcBujRgVW19pe43WBY5mwnVM757C7ybWT4t6MxRXXv, last_aggregate_price_info=PythPriceInfo status PythPriceStatus.TRADING price 0.50435794, latest_price_info=PythPriceInfo status PythPriceStatus.TRADING price 0.50435794, exponent=-8),\n",
       "  PythPriceComponent(publisher_key=FMyhZGgD6QXoMpKdxTLJVpunWUpcvELEmMQihqHmwTjp, last_aggregate_price_info=PythPriceInfo status PythPriceStatus.TRADING price 0.5043951, latest_price_info=PythPriceInfo status PythPriceStatus.TRADING price 0.5043951, exponent=-8),\n",
       "  PythPriceComponent(publisher_key=GdHd8HjqX3we9WcKth1HkHUD9r8kCSSYuFfR1sb1v3nH, last_aggregate_price_info=PythPriceInfo status PythPriceStatus.TRADING price 0.50469274, latest_price_info=PythPriceInfo status PythPriceStatus.TRADING price 0.50469274, exponent=-8),\n",
       "  PythPriceComponent(publisher_key=H2ViysxKfEYSWaK3fbdYeJvsr325z6u7kwm5sVwjfSoN, last_aggregate_price_info=PythPriceInfo status PythPriceStatus.TRADING price 0.50402471, latest_price_info=PythPriceInfo status PythPriceStatus.TRADING price 0.50402471, exponent=-8)],\n",
       " 'derivations': {<EmaType.EMA_CONFIDENCE_VALUE: 4>: 69053,\n",
       "  <EmaType.EMA_PRICE_VALUE: 1>: 50332625},\n",
       " 'timestamp': 1733534493,\n",
       " 'min_publishers': 9,\n",
       " 'prev_slot': 182831081,\n",
       " 'prev_price': 0.50436254,\n",
       " 'prev_conf': 0.00064058,\n",
       " 'prev_timestamp': 1733534493}"
      ]
     },
     "execution_count": 164,
     "metadata": {},
     "output_type": "execute_result"
    }
   ],
   "source": [
    "pr.__dict__"
   ]
  },
  {
   "cell_type": "code",
   "execution_count": 166,
   "metadata": {},
   "outputs": [
    {
     "data": {
      "text/plain": [
       "0.50435733"
      ]
     },
     "execution_count": 166,
     "metadata": {},
     "output_type": "execute_result"
    }
   ],
   "source": [
    "price = pr.aggregate_price_info.price\n",
    "price"
   ]
  },
  {
   "cell_type": "code",
   "execution_count": null,
   "metadata": {},
   "outputs": [
    {
     "data": {
      "text/plain": [
       "32.13808"
      ]
     },
     "execution_count": 127,
     "metadata": {},
     "output_type": "execute_result"
    }
   ],
   "source": [
    "account_key = SolanaPublicKey(\"FsSM3s38PX9K7Dn6eGzuE29S2Dsk1Sss1baytTQdCaQj\")\n",
    "solana_client = SolanaClient(endpoint=PYTHNET_HTTP_ENDPOINT, ws_endpoint=PYTHNET_WS_ENDPOINT)\n",
    "price: PythPriceAccount = PythPriceAccount(account_key, solana_client)\n",
    "\n",
    "await price.update()\n",
    "print(\"DOGE/USD is\", price.aggregate_price, \"±\", price.aggregate_price_confidence_interval)"
   ]
  },
  {
   "cell_type": "code",
   "execution_count": 76,
   "metadata": {},
   "outputs": [
    {
     "data": {
      "text/html": [
       "<div><style>\n",
       ".dataframe > thead > tr,\n",
       ".dataframe > tbody > tr {\n",
       "  text-align: right;\n",
       "  white-space: pre-wrap;\n",
       "}\n",
       "</style>\n",
       "<small>shape: (553, 16)</small><table border=\"1\" class=\"dataframe\"><thead><tr><th>price_type</th><th>aggregate_price_status</th><th>aggregate_price</th><th>aggregate_price_confidence_interval</th><th>symbol</th><th>asset_type</th><th>base</th><th>description</th><th>generic_symbol</th><th>quote_currency</th><th>weekly_schedule</th><th>cms_symbol</th><th>country</th><th>cqs_symbol</th><th>nasdaq_symbol</th><th>tenor</th></tr><tr><td>object</td><td>object</td><td>null</td><td>null</td><td>str</td><td>str</td><td>str</td><td>str</td><td>str</td><td>str</td><td>str</td><td>str</td><td>str</td><td>str</td><td>str</td><td>str</td></tr></thead><tbody><tr><td>PythPriceType.PRICE</td><td>PythPriceStatus.UNKNOWN</td><td>null</td><td>null</td><td>&quot;Crypto.BCH/USD&quot;</td><td>&quot;Crypto&quot;</td><td>&quot;BCH&quot;</td><td>&quot;BITCOIN CASH / US DOLLAR&quot;</td><td>&quot;BCHUSD&quot;</td><td>&quot;USD&quot;</td><td>&quot;America/New_York,O,O,O,O,O,O,O&quot;</td><td>null</td><td>null</td><td>null</td><td>null</td><td>null</td></tr><tr><td>PythPriceType.PRICE</td><td>PythPriceStatus.UNKNOWN</td><td>null</td><td>null</td><td>&quot;Crypto.LTC/USD&quot;</td><td>&quot;Crypto&quot;</td><td>&quot;LTC&quot;</td><td>&quot;LITECOIN / US DOLLAR&quot;</td><td>&quot;LTCUSD&quot;</td><td>&quot;USD&quot;</td><td>&quot;America/New_York,O,O,O,O,O,O,O&quot;</td><td>null</td><td>null</td><td>null</td><td>null</td><td>null</td></tr><tr><td>PythPriceType.PRICE</td><td>PythPriceStatus.UNKNOWN</td><td>null</td><td>null</td><td>&quot;Equity.US.AAPL/USD&quot;</td><td>&quot;Equity&quot;</td><td>&quot;AAPL&quot;</td><td>&quot;APPLE INC / US DOLLAR&quot;</td><td>null</td><td>&quot;USD&quot;</td><td>&quot;America/New_York,9:30-16:00,9:…</td><td>&quot;AAPL&quot;</td><td>&quot;US&quot;</td><td>&quot;AAPL&quot;</td><td>&quot;AAPL&quot;</td><td>null</td></tr><tr><td>PythPriceType.PRICE</td><td>PythPriceStatus.UNKNOWN</td><td>null</td><td>null</td><td>&quot;Equity.US.TSLA/USD&quot;</td><td>&quot;Equity&quot;</td><td>&quot;TSLA&quot;</td><td>&quot;TESLA INC / US DOLLAR&quot;</td><td>null</td><td>&quot;USD&quot;</td><td>&quot;America/New_York,9:30-16:00,9:…</td><td>&quot;TSLA&quot;</td><td>&quot;US&quot;</td><td>&quot;TSLA&quot;</td><td>&quot;TSLA&quot;</td><td>null</td></tr><tr><td>PythPriceType.PRICE</td><td>PythPriceStatus.UNKNOWN</td><td>null</td><td>null</td><td>&quot;Equity.US.QQQ/USD&quot;</td><td>&quot;Equity&quot;</td><td>&quot;QQQ&quot;</td><td>&quot;INVESCO QQQ TRUST SERIES 1 / U…</td><td>null</td><td>&quot;USD&quot;</td><td>&quot;America/New_York,9:30-16:00,9:…</td><td>&quot;QQQ&quot;</td><td>&quot;US&quot;</td><td>&quot;QQQ&quot;</td><td>&quot;QQQ&quot;</td><td>null</td></tr><tr><td>&hellip;</td><td>&hellip;</td><td>&hellip;</td><td>&hellip;</td><td>&hellip;</td><td>&hellip;</td><td>&hellip;</td><td>&hellip;</td><td>&hellip;</td><td>&hellip;</td><td>&hellip;</td><td>&hellip;</td><td>&hellip;</td><td>&hellip;</td><td>&hellip;</td><td>&hellip;</td></tr><tr><td>PythPriceType.PRICE</td><td>PythPriceStatus.UNKNOWN</td><td>null</td><td>null</td><td>&quot;Crypto.ER.WSTETH/STETH&quot;</td><td>&quot;Crypto Exchange Rate&quot;</td><td>&quot;WSTETH&quot;</td><td>&quot;WSTETH EXCHANGE RATE&quot;</td><td>&quot;WSTETHSTETH&quot;</td><td>&quot;STETH&quot;</td><td>null</td><td>null</td><td>null</td><td>null</td><td>null</td><td>null</td></tr><tr><td>PythPriceType.PRICE</td><td>PythPriceStatus.UNKNOWN</td><td>null</td><td>null</td><td>&quot;Crypto.ER.WUSDM/USDM&quot;</td><td>&quot;Crypto Exchange Rate&quot;</td><td>&quot;WUSDM&quot;</td><td>&quot;WUSDM EXCHANGE RATE&quot;</td><td>&quot;WUSDMUSDM&quot;</td><td>&quot;USDM&quot;</td><td>null</td><td>null</td><td>null</td><td>null</td><td>null</td><td>null</td></tr><tr><td>PythPriceType.PRICE</td><td>PythPriceStatus.UNKNOWN</td><td>null</td><td>null</td><td>&quot;Crypto.Index.GML2/USD&quot;</td><td>&quot;Crypto Index&quot;</td><td>&quot;GML2&quot;</td><td>&quot;GMCI L2 / US DOLLAR&quot;</td><td>&quot;GML2USD&quot;</td><td>&quot;USD&quot;</td><td>&quot;America/New_York,O,O,O,O,O,O,O&quot;</td><td>null</td><td>null</td><td>null</td><td>null</td><td>null</td></tr><tr><td>PythPriceType.PRICE</td><td>PythPriceStatus.UNKNOWN</td><td>null</td><td>null</td><td>&quot;Crypto.Index.GMMEME/USD&quot;</td><td>&quot;Crypto Index&quot;</td><td>&quot;GMMEME&quot;</td><td>&quot;GMCI MEME / US DOLLAR&quot;</td><td>&quot;GMMEMEUSD&quot;</td><td>&quot;USD&quot;</td><td>&quot;America/New_York,O,O,O,O,O,O,O&quot;</td><td>null</td><td>null</td><td>null</td><td>null</td><td>null</td></tr><tr><td>PythPriceType.PRICE</td><td>PythPriceStatus.UNKNOWN</td><td>null</td><td>null</td><td>&quot;Crypto.Index.GMSOL/USD&quot;</td><td>&quot;Crypto Index&quot;</td><td>&quot;GMSOL&quot;</td><td>&quot;GMSOL / US DOLLAR&quot;</td><td>&quot;GMSOLUSD&quot;</td><td>&quot;USD&quot;</td><td>&quot;America/New_York,O,O,O,O,O,O,O&quot;</td><td>null</td><td>null</td><td>null</td><td>null</td><td>null</td></tr></tbody></table></div>"
      ],
      "text/plain": [
       "shape: (553, 16)\n",
       "┌────────────┬────────────┬────────────┬────────────┬───┬─────────┬────────────┬───────────┬───────┐\n",
       "│ price_type ┆ aggregate_ ┆ aggregate_ ┆ aggregate_ ┆ … ┆ country ┆ cqs_symbol ┆ nasdaq_sy ┆ tenor │\n",
       "│ ---        ┆ price_stat ┆ price      ┆ price_conf ┆   ┆ ---     ┆ ---        ┆ mbol      ┆ ---   │\n",
       "│ object     ┆ us         ┆ ---        ┆ idence_int ┆   ┆ str     ┆ str        ┆ ---       ┆ str   │\n",
       "│            ┆ ---        ┆ null       ┆ …          ┆   ┆         ┆            ┆ str       ┆       │\n",
       "│            ┆ object     ┆            ┆ ---        ┆   ┆         ┆            ┆           ┆       │\n",
       "│            ┆            ┆            ┆ null       ┆   ┆         ┆            ┆           ┆       │\n",
       "╞════════════╪════════════╪════════════╪════════════╪═══╪═════════╪════════════╪═══════════╪═══════╡\n",
       "│ PythPriceT ┆ PythPriceS ┆ null       ┆ null       ┆ … ┆ null    ┆ null       ┆ null      ┆ null  │\n",
       "│ ype.PRICE  ┆ tatus.UNKN ┆            ┆            ┆   ┆         ┆            ┆           ┆       │\n",
       "│            ┆ OWN        ┆            ┆            ┆   ┆         ┆            ┆           ┆       │\n",
       "│ PythPriceT ┆ PythPriceS ┆ null       ┆ null       ┆ … ┆ null    ┆ null       ┆ null      ┆ null  │\n",
       "│ ype.PRICE  ┆ tatus.UNKN ┆            ┆            ┆   ┆         ┆            ┆           ┆       │\n",
       "│            ┆ OWN        ┆            ┆            ┆   ┆         ┆            ┆           ┆       │\n",
       "│ PythPriceT ┆ PythPriceS ┆ null       ┆ null       ┆ … ┆ US      ┆ AAPL       ┆ AAPL      ┆ null  │\n",
       "│ ype.PRICE  ┆ tatus.UNKN ┆            ┆            ┆   ┆         ┆            ┆           ┆       │\n",
       "│            ┆ OWN        ┆            ┆            ┆   ┆         ┆            ┆           ┆       │\n",
       "│ PythPriceT ┆ PythPriceS ┆ null       ┆ null       ┆ … ┆ US      ┆ TSLA       ┆ TSLA      ┆ null  │\n",
       "│ ype.PRICE  ┆ tatus.UNKN ┆            ┆            ┆   ┆         ┆            ┆           ┆       │\n",
       "│            ┆ OWN        ┆            ┆            ┆   ┆         ┆            ┆           ┆       │\n",
       "│ PythPriceT ┆ PythPriceS ┆ null       ┆ null       ┆ … ┆ US      ┆ QQQ        ┆ QQQ       ┆ null  │\n",
       "│ ype.PRICE  ┆ tatus.UNKN ┆            ┆            ┆   ┆         ┆            ┆           ┆       │\n",
       "│            ┆ OWN        ┆            ┆            ┆   ┆         ┆            ┆           ┆       │\n",
       "│ …          ┆ …          ┆ …          ┆ …          ┆ … ┆ …       ┆ …          ┆ …         ┆ …     │\n",
       "│ PythPriceT ┆ PythPriceS ┆ null       ┆ null       ┆ … ┆ null    ┆ null       ┆ null      ┆ null  │\n",
       "│ ype.PRICE  ┆ tatus.UNKN ┆            ┆            ┆   ┆         ┆            ┆           ┆       │\n",
       "│            ┆ OWN        ┆            ┆            ┆   ┆         ┆            ┆           ┆       │\n",
       "│ PythPriceT ┆ PythPriceS ┆ null       ┆ null       ┆ … ┆ null    ┆ null       ┆ null      ┆ null  │\n",
       "│ ype.PRICE  ┆ tatus.UNKN ┆            ┆            ┆   ┆         ┆            ┆           ┆       │\n",
       "│            ┆ OWN        ┆            ┆            ┆   ┆         ┆            ┆           ┆       │\n",
       "│ PythPriceT ┆ PythPriceS ┆ null       ┆ null       ┆ … ┆ null    ┆ null       ┆ null      ┆ null  │\n",
       "│ ype.PRICE  ┆ tatus.UNKN ┆            ┆            ┆   ┆         ┆            ┆           ┆       │\n",
       "│            ┆ OWN        ┆            ┆            ┆   ┆         ┆            ┆           ┆       │\n",
       "│ PythPriceT ┆ PythPriceS ┆ null       ┆ null       ┆ … ┆ null    ┆ null       ┆ null      ┆ null  │\n",
       "│ ype.PRICE  ┆ tatus.UNKN ┆            ┆            ┆   ┆         ┆            ┆           ┆       │\n",
       "│            ┆ OWN        ┆            ┆            ┆   ┆         ┆            ┆           ┆       │\n",
       "│ PythPriceT ┆ PythPriceS ┆ null       ┆ null       ┆ … ┆ null    ┆ null       ┆ null      ┆ null  │\n",
       "│ ype.PRICE  ┆ tatus.UNKN ┆            ┆            ┆   ┆         ┆            ┆           ┆       │\n",
       "│            ┆ OWN        ┆            ┆            ┆   ┆         ┆            ┆           ┆       │\n",
       "└────────────┴────────────┴────────────┴────────────┴───┴─────────┴────────────┴───────────┴───────┘"
      ]
     },
     "execution_count": 76,
     "metadata": {},
     "output_type": "execute_result"
    }
   ],
   "source": [
    "from pythclient.pythclient import PythClient\n",
    "from solana.rpc.api import Client  # Using the synchronous client\n",
    "import polars as pl  # Assuming polars for DataFrame handling\n",
    "from pythclient.utils import get_key\n",
    "\n",
    "solana_network=\"devnet\"\n",
    "async with PythClient(\n",
    "    first_mapping_account_key=get_key(solana_network, \"mapping\"),\n",
    "    program_key=None\n",
    ") as c:\n",
    "    await c.refresh_all_prices()\n",
    "    products = await c.get_products()\n",
    "    dfs = []\n",
    "    for p in products:\n",
    "        prices = await p.get_prices()\n",
    "        for _, pr in prices.items():\n",
    "            dfs.append(\n",
    "                {\n",
    "                    \"price_type\": pr.price_type,\n",
    "                    \"aggregate_price_status\": pr.aggregate_price_status,\n",
    "                    \"aggregate_price\": pr.aggregate_price,\n",
    "                    \"aggregate_price_confidence_interval\": pr.aggregate_price_confidence_interval,\n",
    "                    **p.attrs\n",
    "                }\n",
    "            )\n",
    "    df_prices = pl.DataFrame(dfs)\n",
    "df_prices"
   ]
  },
  {
   "cell_type": "code",
   "execution_count": 168,
   "metadata": {},
   "outputs": [],
   "source": [
    "CHAINSTAKE_SOLONA_HTTPS = \"https://solana-mainnet.core.chainstack.com/2fa69914c087050cc7b9887511cd7d35\"\n",
    "CHAINSTAKE_SOLONA_WS = \"wss://solana-mainnet.core.chainstack.com/2fa69914c087050cc7b9887511cd7d35\""
   ]
  },
  {
   "cell_type": "code",
   "execution_count": 169,
   "metadata": {},
   "outputs": [
    {
     "name": "stdout",
     "output_type": "stream",
     "text": [
      "{\"jsonrpc\":\"2.0\",\"result\":{\"context\":{\"apiVersion\":\"2.0.18\",\"slot\":305880263},\"value\":{\"data\":[\"\",\"base64\"],\"executable\":false,\"lamports\":674862200007,\"owner\":\"11111111111111111111111111111111\",\"rentEpoch\":18446744073709551615,\"space\":0}},\"id\":1}\n",
      "\n"
     ]
    }
   ],
   "source": [
    "import requests\n",
    "\n",
    "payload = {\n",
    "    \"id\": 1,\n",
    "    \"jsonrpc\": \"2.0\",\n",
    "    \"method\": \"getAccountInfo\",\n",
    "    \"params\": [\n",
    "        wallet_address,\n",
    "        {\n",
    "            \"encoding\": \"jsonParsed\",\n",
    "            \"commitment\": \"finalized\"\n",
    "        }\n",
    "    ]\n",
    "}\n",
    "headers = {\n",
    "    \"accept\": \"application/json\",\n",
    "    \"content-type\": \"application/json\"\n",
    "}\n",
    "\n",
    "response = requests.post(CHAINSTAKE_SOLONA_HTTPS, json=payload, headers=headers)\n",
    "print(response.text)"
   ]
  },
  {
   "cell_type": "code",
   "execution_count": null,
   "metadata": {},
   "outputs": [],
   "source": []
  }
 ],
 "metadata": {
  "kernelspec": {
   "display_name": "Python 3",
   "language": "python",
   "name": "python3"
  },
  "language_info": {
   "codemirror_mode": {
    "name": "ipython",
    "version": 3
   },
   "file_extension": ".py",
   "mimetype": "text/x-python",
   "name": "python",
   "nbconvert_exporter": "python",
   "pygments_lexer": "ipython3",
   "version": "3.12.2"
  }
 },
 "nbformat": 4,
 "nbformat_minor": 2
}
